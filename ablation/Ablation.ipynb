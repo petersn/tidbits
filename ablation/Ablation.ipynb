{
 "cells": [
  {
   "cell_type": "code",
   "execution_count": 1,
   "id": "a6921a9e",
   "metadata": {},
   "outputs": [],
   "source": [
    "import numpy as np\n",
    "import inspect\n",
    "import itertools"
   ]
  },
  {
   "cell_type": "code",
   "execution_count": 2,
   "id": "f7006c64",
   "metadata": {},
   "outputs": [
    {
     "data": {
      "text/plain": [
       "[{'r1': 0, 'r2': 0, 's': 0},\n",
       " {'r1': 0, 'r2': 0, 's': 1},\n",
       " {'r1': 0, 'r2': 1, 's': 0},\n",
       " {'r1': 0, 'r2': 1, 's': 1},\n",
       " {'r1': 1, 'r2': 0, 's': 0},\n",
       " {'r1': 1, 'r2': 0, 's': 1},\n",
       " {'r1': 1, 'r2': 1, 's': 0},\n",
       " {'r1': 1, 'r2': 1, 's': 1}]"
      ]
     },
     "execution_count": 2,
     "metadata": {},
     "output_type": "execute_result"
    }
   ],
   "source": [
    "# Define an interaction.\n",
    "# In this case, we're modeling that r1 and r2 are redundant,\n",
    "# (so you need to ablate both to get the loss to increase),\n",
    "# but s is in series with r1 and r2, so ablating s always\n",
    "# breaks the circuit.\n",
    "def ablation_to_loss(r1, r2, s):\n",
    "    return (r1 & r2) | s\n",
    "\n",
    "signature = inspect.signature(ablation_to_loss)\n",
    "bit_count = len(signature.parameters)\n",
    "all_ablations = [\n",
    "    {name: bit for name, bit in zip(signature.parameters, bits)}\n",
    "    for bits in itertools.product((0, 1), repeat=bit_count)\n",
    "]\n",
    "all_ablations"
   ]
  },
  {
   "cell_type": "code",
   "execution_count": 3,
   "id": "4c4ba5c4",
   "metadata": {},
   "outputs": [
    {
     "data": {
      "text/plain": [
       "{(): {'r1': 0, 'r2': 0, 's': 0},\n",
       " ('r1',): {'r1': 1, 'r2': 0, 's': 0},\n",
       " ('r2',): {'r1': 0, 'r2': 1, 's': 0},\n",
       " ('s',): {'r1': 0, 'r2': 0, 's': 1},\n",
       " ('r1', 'r2'): {'r1': 1, 'r2': 1, 's': 0},\n",
       " ('r1', 's'): {'r1': 1, 'r2': 0, 's': 1},\n",
       " ('r2', 's'): {'r1': 0, 'r2': 1, 's': 1}}"
      ]
     },
     "execution_count": 3,
     "metadata": {},
     "output_type": "execute_result"
    }
   ],
   "source": [
    "# Construct all limited degree ablations.\n",
    "degree = 2\n",
    "\n",
    "terms = [\n",
    "    term\n",
    "    for k in range(degree + 1)\n",
    "    for term in itertools.combinations(signature.parameters, k)\n",
    "]\n",
    "term_to_ablation = {\n",
    "    term: {k: +(k in term) for k in signature.parameters}\n",
    "    for term in terms\n",
    "}\n",
    "term_to_ablation"
   ]
  },
  {
   "cell_type": "code",
   "execution_count": 4,
   "id": "dbfefbd9",
   "metadata": {},
   "outputs": [
    {
     "data": {
      "text/plain": [
       "array([[1., 0., 0., 0., 0., 0., 0.],\n",
       "       [1., 0., 0., 1., 0., 0., 0.],\n",
       "       [1., 0., 1., 0., 0., 0., 0.],\n",
       "       [1., 0., 1., 1., 0., 0., 1.],\n",
       "       [1., 1., 0., 0., 0., 0., 0.],\n",
       "       [1., 1., 0., 1., 0., 1., 0.],\n",
       "       [1., 1., 1., 0., 1., 0., 0.],\n",
       "       [1., 1., 1., 1., 1., 1., 1.]])"
      ]
     },
     "execution_count": 4,
     "metadata": {},
     "output_type": "execute_result"
    }
   ],
   "source": [
    "# Compute the matrix mat[ablation_index, term_index] which\n",
    "# says if ablating some heads invokes a given term.\n",
    "mat = np.array([\n",
    "    [\n",
    "        all(ablation[i] for i in term)\n",
    "        for term in terms\n",
    "    ]\n",
    "    for ablation in all_ablations\n",
    "], dtype=np.float64)\n",
    "mat"
   ]
  },
  {
   "cell_type": "code",
   "execution_count": 5,
   "id": "01b02b65",
   "metadata": {},
   "outputs": [],
   "source": [
    "def term_name(term):\n",
    "    name = \" \".join(i for i in term)\n",
    "    return name or \"1\""
   ]
  },
  {
   "cell_type": "code",
   "execution_count": 6,
   "id": "b01ae46d",
   "metadata": {},
   "outputs": [
    {
     "name": "stdout",
     "output_type": "stream",
     "text": [
      "Residual error: 0.125\n",
      "-0.125 * 1\n",
      " 0.250 * r1\n",
      " 0.250 * r2\n",
      " 1.250 * s\n",
      " 0.500 * r1 r2\n",
      "-0.500 * r1 s\n",
      "-0.500 * r2 s\n"
     ]
    }
   ],
   "source": [
    "# Perform a least-squares fit, approximating the interaction to our chosen degree\n",
    "sol, resid, _, _ = np.linalg.lstsq(mat, [ablation_to_loss(**ab) for ab in all_ablations], rcond=None)\n",
    "assert len(sol) == len(terms)\n",
    "if len(resid):\n",
    "    print(f\"Residual error: {resid[0]:.3f}\")\n",
    "for coef, term in zip(sol, terms):\n",
    "    print(f\"{coef:6.3f} * {term_name(term)}\")"
   ]
  },
  {
   "cell_type": "code",
   "execution_count": 7,
   "id": "ad57e11a",
   "metadata": {},
   "outputs": [
    {
     "name": "stdout",
     "output_type": "stream",
     "text": [
      " 1.000 * r1 r2\n",
      " 0.000 * r1 s\n",
      " 0.000 * r2 s\n"
     ]
    }
   ],
   "source": [
    "# Compute the naive loss(ablate x and y) - loss(ablate x) - loss(ablate y) metric:\n",
    "for x, y in itertools.combinations(signature.parameters, 2):\n",
    "    loss_ablate_x_and_y = ablation_to_loss(**term_to_ablation[x, y])\n",
    "    loss_ablate_x = ablation_to_loss(**term_to_ablation[x,])\n",
    "    loss_ablate_y = ablation_to_loss(**term_to_ablation[y,])\n",
    "    metric = loss_ablate_x_and_y - loss_ablate_x - loss_ablate_y\n",
    "    print(f\"{metric:6.3f} * {term_name((x, y))}\")"
   ]
  },
  {
   "cell_type": "code",
   "execution_count": 8,
   "id": "abf92334",
   "metadata": {},
   "outputs": [],
   "source": [
    "# Observe: If degree = 3, then these two measures agree.\n",
    "# However, at degree = 2 they disagree -- we're now asking:\n",
    "#   \"How can you best explain the behavior as degree 2 interactions?\"\n",
    "# And there *is* a degree 2 interaction between r1 and s, and also r2 and s."
   ]
  }
 ],
 "metadata": {
  "kernelspec": {
   "display_name": "Python 3 (ipykernel)",
   "language": "python",
   "name": "python3"
  },
  "language_info": {
   "codemirror_mode": {
    "name": "ipython",
    "version": 3
   },
   "file_extension": ".py",
   "mimetype": "text/x-python",
   "name": "python",
   "nbconvert_exporter": "python",
   "pygments_lexer": "ipython3",
   "version": "3.10.6"
  }
 },
 "nbformat": 4,
 "nbformat_minor": 5
}
