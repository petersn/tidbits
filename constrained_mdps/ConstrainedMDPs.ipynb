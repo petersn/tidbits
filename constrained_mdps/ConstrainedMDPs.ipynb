{
 "cells": [
  {
   "cell_type": "markdown",
   "metadata": {},
   "source": [
    "# Constrained MDPs\n",
    "\n",
    "This is my (Peter Schmidt-Nielsen's) attempt to follow along and implement what was described in an email written by Tong Mu.\n",
    "\n",
    "There are three parts:\n",
    "1. Finding the optimal policy for a known MDP. (via value iteration)\n",
    "2. Finding the optimal policy for a known MDP. (via linear programming)\n",
    "3. Finding the optimal steady-state policy for a known MDP subject to a constraint. (via linear programming)\n",
    "\n",
    "Finally, there's an observation that (2) and (3) are duals of each other!"
   ]
  },
  {
   "cell_type": "markdown",
   "metadata": {},
   "source": [
    "## 1: Unconstrained MDP, via value iteration\n",
    "\n",
    "To start with, let's do plain old value iteration for an MDP. We'll start by generating a random MDP."
   ]
  },
  {
   "cell_type": "code",
   "execution_count": 1,
   "metadata": {},
   "outputs": [],
   "source": [
    "import random\n",
    "import numpy as np\n",
    "\n",
    "def make_mdp(state_count, action_count):\n",
    "    # Make some random transition probabilities.\n",
    "    transition_probs = np.exp(5 * np.random.randn(state_count, action_count, state_count))\n",
    "    transition_probs /= transition_probs.sum(axis=-1)[..., np.newaxis]\n",
    "\n",
    "    # Make some random transitions give some random reward, biasing towards penalties.\n",
    "    rewards = np.random.randint(-17, 10, size=(state_count, action_count, state_count))\n",
    "\n",
    "    return {\n",
    "        \"state_count\": state_count,\n",
    "        \"action_count\": action_count,\n",
    "        # trans[s, a, s'] is the probability of transitioning from s to s' under action a.\n",
    "        \"trans\": transition_probs,\n",
    "        # rewards[s, a, s'] is the reward given by transitioning from s to s' from action a.\n",
    "        \"rewards\": rewards,\n",
    "    }\n",
    "\n",
    "main_mdp = make_mdp(\n",
    "    state_count=10,\n",
    "    action_count=2,\n",
    ")\n",
    "gamma = 0.75"
   ]
  },
  {
   "cell_type": "markdown",
   "metadata": {},
   "source": [
    "To do value iteration, we iterate the following to find a fixed point $V$ (solution to the Bellman equation):\n",
    "$$ V'(s) = \\max_a \\sum_{s'} \\mathrm{trans}[s, a, s'] \\, \\big(\\mathrm{rewards}[s, a, s'] + \\gamma V(s')\\big) $$"
   ]
  },
  {
   "cell_type": "code",
   "execution_count": 2,
   "metadata": {},
   "outputs": [
    {
     "data": {
      "text/plain": [
       "array([  3.58873285,  12.12336257,  -9.41499433,  -4.56413414,\n",
       "       -13.10467415,   1.55688255,   9.24490558,   4.24928972,\n",
       "         1.15689845,   1.02660245])"
      ]
     },
     "execution_count": 2,
     "metadata": {},
     "output_type": "execute_result"
    }
   ],
   "source": [
    "def value_iteration(mdp, gamma, iterations=100):\n",
    "    values = np.zeros(shape=mdp[\"state_count\"])\n",
    "    for _ in range(iterations):\n",
    "        values = (mdp[\"trans\"] * (mdp[\"rewards\"] + gamma * values)).sum(axis=-1).max(axis=-1)\n",
    "    return values\n",
    "\n",
    "value_iteration(main_mdp, gamma)"
   ]
  },
  {
   "cell_type": "markdown",
   "metadata": {},
   "source": [
    "## 2: Unconstrained MDP, via linear programming\n",
    "\n",
    "(Per Mu, personal communication, 14th Dec 2020)\n",
    "\n",
    "Observe that claiming $x = \\max_i y_i$ is equivalent to claiming that $x$ is the minimal value such that $\\forall i, x \\ge y_i$.\n",
    "We will use this observation to rewrite each of the maximizations in the Bellman equation from before into a collection of linear constraints.\n",
    "In particular, we want:\n",
    "$$ \\forall s, V(s) = \\max_a \\sum_{s'} \\mathrm{trans}[s, a, s'] \\, \\big(\\mathrm{rewards}[s, a, s'] + \\gamma V(s')\\big) $$\n",
    "Thus, for each $s$ we get a collection of constraints for each action $a$ implementing a single max operator:\n",
    "$$\\begin{align}\n",
    "    \\forall s \\forall a, \\quad V(s) &\\ge \\sum_{s'} \\mathrm{trans}[s, a, s'] \\, \\big(\\mathrm{rewards}[s, a, s'] + \\gamma V(s')\\big) \\\\\n",
    "    \\underbrace{V(s) - \\gamma \\sum_{s'} \\mathrm{trans}[s, a, s'] \\, V(s')}_{\\text{Entries in the constraint's row}} &\\ge \\underbrace{\\sum_{s'} \\mathrm{trans}[s, a, s'] \\, \\mathrm{rewards}[s, a, s']}_{\\text{Constant term on the constraint}}\n",
    "\\end{align}$$\n",
    "This is precisely a linear program."
   ]
  },
  {
   "cell_type": "code",
   "execution_count": 3,
   "metadata": {},
   "outputs": [],
   "source": [
    "import scipy.optimize\n",
    "\n",
    "def linprog_values(mdp, gamma):\n",
    "    # Our constraint matrix must have shape [constraint_count, variable_count],\n",
    "    # where constraint_count = state_count * action_count, and variable_count = state_count.\n",
    "\n",
    "    # Our constraint matrix has two terms, corresponding to the two terms in the LHS above.\n",
    "    # First, the V(s) term:\n",
    "    constraint_matrix = np.repeat(np.eye(mdp[\"state_count\"]), mdp[\"action_count\"], axis=0)\n",
    "    # Second, the -γ sum_{s'} trans[s, a, s'] V(s') term:\n",
    "    constraint_matrix += -gamma * mdp[\"trans\"].reshape((-1, mdp[\"state_count\"]))\n",
    "\n",
    "    # Our constraint bounds correspond to the RHS above:\n",
    "    constraint_bounds = (mdp[\"trans\"] * mdp[\"rewards\"]).sum(axis=-1).flatten()\n",
    "\n",
    "    result = scipy.optimize.linprog(\n",
    "        # Because our goal is simply to minimize V, any positive objective whatsoever suffices.\n",
    "        # (cf. Mu, personal communication.)\n",
    "        c=np.ones(mdp[\"state_count\"]),\n",
    "        # Note that we'd like a $\\ge$ constraint, so we negate both the constraint and bounds.\n",
    "        A_ub=-constraint_matrix,\n",
    "        b_ub=-constraint_bounds,\n",
    "        bounds=(None, None),\n",
    "    )\n",
    "    if not result.success:\n",
    "        raise ValueError(\"Linear program failed: \" + result.message)\n",
    "    return result.x"
   ]
  },
  {
   "cell_type": "markdown",
   "metadata": {},
   "source": [
    "With any luck this LP based solution will equal the value iteration solution."
   ]
  },
  {
   "cell_type": "code",
   "execution_count": 4,
   "metadata": {},
   "outputs": [
    {
     "name": "stderr",
     "output_type": "stream",
     "text": [
      "/usr/local/lib/python3.8/site-packages/numpy/core/fromnumeric.py:87: VisibleDeprecationWarning: Creating an ndarray from ragged nested sequences (which is a list-or-tuple of lists-or-tuples-or ndarrays with different lengths or shapes) is deprecated. If you meant to do this, you must specify 'dtype=object' when creating the ndarray\n",
      "  return ufunc.reduce(obj, axis, dtype, out, **passkwargs)\n"
     ]
    },
    {
     "data": {
      "text/plain": [
       "array([  3.58873285,  12.12336257,  -9.41499433,  -4.56413414,\n",
       "       -13.10467415,   1.55688255,   9.24490558,   4.24928972,\n",
       "         1.15689845,   1.02660245])"
      ]
     },
     "execution_count": 4,
     "metadata": {},
     "output_type": "execute_result"
    }
   ],
   "source": [
    "linprog_values(main_mdp, gamma)"
   ]
  },
  {
   "cell_type": "code",
   "execution_count": 5,
   "metadata": {},
   "outputs": [
    {
     "data": {
      "text/plain": [
       "array([  3.58873285,  12.12336257,  -9.41499433,  -4.56413414,\n",
       "       -13.10467415,   1.55688255,   9.24490558,   4.24928972,\n",
       "         1.15689845,   1.02660245])"
      ]
     },
     "execution_count": 5,
     "metadata": {},
     "output_type": "execute_result"
    }
   ],
   "source": [
    "value_iteration(main_mdp, gamma)"
   ]
  },
  {
   "cell_type": "markdown",
   "metadata": {},
   "source": [
    "Huzzah, the two results are equal, it worked!"
   ]
  },
  {
   "cell_type": "markdown",
   "metadata": {},
   "source": [
    "## 3: Constrained MDP, via linear programming\n",
    "\n",
    "(Also per Mu, personal communication, 14th Dec 2020)\n",
    "\n",
    "Now imagine each $(\\text{s}, \\text{a})$ pair has an associated constraint-cost $\\mathrm{constraint\\_costs}[s, a]$ and we only want a policy that, in steady-state, consumes no more than $\\delta$ units of constraint-cost in expectation per step.\n",
    "\n",
    "To do this, we compute an occupancy measure $y(s, a)$, giving a distribution over which edges (i.e. state-action pairs) we take under the optimal policy in steady-state.\n",
    "We know that the occupancy measure must be a normalized probability distribution:\n",
    "$$ \\sum_{s, a} y(s, a) = 1 $$\n",
    "Additionally, we know that all of the probability flowing into a state in the MDP must equal all of the probability flowing out of it:\n",
    "$$ \\forall s', \\quad \\underbrace{\\sum_{s, a} \\mathrm{trans}[s, a, s'] \\, y(s, a)}_{\\text{Probability flowing into $s'$}} = \\underbrace{\\sum_{a} y(s', a)}_{\\text{Probability flowing out of $s'$}} $$\n",
    "In this framing we may now easily encode our constraint-cost limit of $\\delta$:\n",
    "$$ \\sum_{s, a} \\mathrm{constraint\\_costs}[s, a] \\, y(s, a) \\le \\delta $$\n",
    "Finally, we would like to maximize the expected reward of an action we take in steady-state, namely the quantity:\n",
    "$$ \\sum_{s, a, s'} \\mathrm{trans}[s, a, s'] \\, \\mathrm{rewards}[s, a, s'] \\, y(s, a) $$\n",
    "The above form a linear program."
   ]
  },
  {
   "cell_type": "code",
   "execution_count": 6,
   "metadata": {},
   "outputs": [],
   "source": [
    "# constraint_costs[s, a] gives the constraint-cost of taking action a from state s.\n",
    "constraint_costs = np.random.uniform(0, 1, size=(main_mdp[\"state_count\"], main_mdp[\"action_count\"]))\n",
    "\n",
    "def constrained_linprog_occupancy(mdp, constraint_costs, delta):\n",
    "    # Our equality constraint matrix must have shape [constraint_count, variable_count],\n",
    "    # where constraint_count = state_count + 1, and variable_count = state_count * action_count.\n",
    "    \n",
    "    # Our constraint matrix has two terms: the probability flowing in, and out.\n",
    "    # First, the probability flowing into s':\n",
    "    equality_constraint_matrix = mdp[\"trans\"].reshape((-1, mdp[\"state_count\"])).T.copy()\n",
    "    # Second, the probability flowing out of s':\n",
    "    equality_constraint_matrix -= np.repeat(np.eye(mdp[\"state_count\"]), mdp[\"action_count\"], axis=0).T\n",
    "\n",
    "    # Add a final constraint enforcing normalization of the occupancy measure.\n",
    "    equality_constraint_matrix = np.append(\n",
    "        equality_constraint_matrix, [[1] * mdp[\"state_count\"] * mdp[\"action_count\"]], axis=0,\n",
    "    )\n",
    "\n",
    "    objective_vector = (mdp[\"trans\"] * mdp[\"rewards\"]).sum(axis=-1).flatten()\n",
    "\n",
    "    result = scipy.optimize.linprog(\n",
    "        # Here we negate because we'd like to maximize instead of minimize.\n",
    "        c=-objective_vector,\n",
    "        A_eq=equality_constraint_matrix,\n",
    "        b_eq=[0.0] * mdp[\"state_count\"] + [1.0],\n",
    "        # Demand that we don't exceed our constraint-cost budget.\n",
    "        A_ub=[constraint_costs.flatten()],\n",
    "        b_ub=[delta],\n",
    "    )\n",
    "    if not result.success:\n",
    "        raise ValueError(\"Linear program failed: \" + result.message)\n",
    "    occupancy_under_optimal_policy = result.x\n",
    "    return {\n",
    "        \"score\": objective_vector @ occupancy_under_optimal_policy,\n",
    "        \"occupancy\": occupancy_under_optimal_policy.reshape((mdp[\"state_count\"], mdp[\"action_count\"])),\n",
    "    }"
   ]
  },
  {
   "cell_type": "code",
   "execution_count": 7,
   "metadata": {},
   "outputs": [
    {
     "name": "stderr",
     "output_type": "stream",
     "text": [
      "<ipython-input-6-06fafc557bba>:21: OptimizeWarning: A_eq does not appear to be of full row rank. To improve performance, check the problem formulation for redundant equality constraints.\n",
      "  result = scipy.optimize.linprog(\n"
     ]
    },
    {
     "data": {
      "text/plain": [
       "{'score': 0.22227704642581816,\n",
       " 'occupancy': array([[2.12490592e-01, 3.57631227e-12],\n",
       "        [1.88910269e-01, 5.46803836e-13],\n",
       "        [9.22043930e-04, 5.94134483e-12],\n",
       "        [6.14471187e-12, 1.62865323e-01],\n",
       "        [1.07324593e-12, 3.22565915e-02],\n",
       "        [5.79259415e-02, 1.05241766e-01],\n",
       "        [1.66459874e-12, 7.21913905e-04],\n",
       "        [2.18737999e-12, 1.89920403e-01],\n",
       "        [3.83926718e-12, 2.77940301e-02],\n",
       "        [2.09511265e-02, 4.62493900e-12]])}"
      ]
     },
     "execution_count": 7,
     "metadata": {},
     "output_type": "execute_result"
    }
   ],
   "source": [
    "constrained_linprog_occupancy(\n",
    "    mdp=main_mdp,\n",
    "    constraint_costs=constraint_costs,\n",
    "    delta=0.5,\n",
    ")"
   ]
  },
  {
   "cell_type": "markdown",
   "metadata": {},
   "source": [
    "To test this out, let's see how the best score we can achieve varies as a function of our total constraint-cost budget, $\\delta$."
   ]
  },
  {
   "cell_type": "code",
   "execution_count": 8,
   "metadata": {},
   "outputs": [
    {
     "name": "stderr",
     "output_type": "stream",
     "text": [
      "<ipython-input-6-06fafc557bba>:21: OptimizeWarning: A_eq does not appear to be of full row rank. To improve performance, check the problem formulation for redundant equality constraints.\n",
      "  result = scipy.optimize.linprog(\n",
      "/usr/local/lib/python3.8/site-packages/numpy/core/fromnumeric.py:87: VisibleDeprecationWarning: Creating an ndarray from ragged nested sequences (which is a list-or-tuple of lists-or-tuples-or ndarrays with different lengths or shapes) is deprecated. If you meant to do this, you must specify 'dtype=object' when creating the ndarray\n",
      "  return ufunc.reduce(obj, axis, dtype, out, **passkwargs)\n"
     ]
    },
    {
     "data": {
      "image/png": "[encoded data removed]",
      "text/plain": [
       "<Figure size 432x288 with 1 Axes>"
      ]
     },
     "metadata": {
      "needs_background": "light"
     },
     "output_type": "display_data"
    }
   ],
   "source": [
    "import matplotlib.pyplot as plt\n",
    "xs = np.linspace(0, 1)\n",
    "ys = []\n",
    "for delta in xs:\n",
    "    try:\n",
    "        score = constrained_linprog_occupancy(main_mdp, constraint_costs, delta)[\"score\"]\n",
    "        ys.append(score)\n",
    "    except ValueError:\n",
    "        ys.append(None)\n",
    "plt.plot(xs, ys)\n",
    "plt.ylabel(\"Expected per-step steady-state reward\\nof the optimal constrained policy\")\n",
    "_ = plt.xlabel(\"Total constraint-cost budget, δ\")"
   ]
  },
  {
   "cell_type": "markdown",
   "metadata": {},
   "source": [
    "Sure enough, the best score we can achieve goes up as we give more constraint budget.\n",
    "\n",
    "As a final sanity check, if the constraint budget is high enough then we should simply get the unconstrained solution.\n",
    "This should be extremely close to the score we get from our program of section (2) in the limit of $\\gamma$ very close to 1, but rescaling the score back down.\n",
    "For example, the program of section (2) with $\\gamma = 0.999$ should give approximately 1,000 times the expected per-step reward of the steady-state solution as the value of every state in the MDP. (It should give approximately the same value for every state because with a $\\gamma = 0.999$ it's really cheap to just walk from the worst state to the best state!)\n",
    "\n",
    "To check this, we compare the output of the program from section (2) with the output of the program of this section."
   ]
  },
  {
   "cell_type": "code",
   "execution_count": 9,
   "metadata": {},
   "outputs": [
    {
     "name": "stderr",
     "output_type": "stream",
     "text": [
      "/usr/local/lib/python3.8/site-packages/numpy/core/fromnumeric.py:87: VisibleDeprecationWarning: Creating an ndarray from ragged nested sequences (which is a list-or-tuple of lists-or-tuples-or ndarrays with different lengths or shapes) is deprecated. If you meant to do this, you must specify 'dtype=object' when creating the ndarray\n",
      "  return ufunc.reduce(obj, axis, dtype, out, **passkwargs)\n"
     ]
    },
    {
     "data": {
      "text/plain": [
       "array([0.56277493, 0.563687  , 0.56095741, 0.56179701, 0.56077652,\n",
       "       0.56228675, 0.56305172, 0.56285213, 0.56277044, 0.56220483])"
      ]
     },
     "execution_count": 9,
     "metadata": {},
     "output_type": "execute_result"
    }
   ],
   "source": [
    "# Approximately compute the expected steady-state per-step reward using our previous program.\n",
    "linprog_values(main_mdp, 1 - 10**-4) / 10**4"
   ]
  },
  {
   "cell_type": "code",
   "execution_count": 10,
   "metadata": {},
   "outputs": [
    {
     "name": "stderr",
     "output_type": "stream",
     "text": [
      "<ipython-input-6-06fafc557bba>:21: OptimizeWarning: A_eq does not appear to be of full row rank. To improve performance, check the problem formulation for redundant equality constraints.\n",
      "  result = scipy.optimize.linprog(\n"
     ]
    },
    {
     "data": {
      "text/plain": [
       "0.5629318775359461"
      ]
     },
     "execution_count": 10,
     "metadata": {},
     "output_type": "execute_result"
    }
   ],
   "source": [
    "# Compare to the per-step reward we get with our new program, making delta so high as to be unconstrained.\n",
    "constrained_linprog_occupancy(main_mdp, constraint_costs, delta=1000)[\"score\"]"
   ]
  },
  {
   "cell_type": "markdown",
   "metadata": {},
   "source": [
    "Huzzah! The values nearly agree!"
   ]
  },
  {
   "cell_type": "markdown",
   "metadata": {},
   "source": [
    "## Duality\n",
    "\n",
    "Okay, wait, what!?\n",
    "\n",
    "I was working on this, and when writing the program of section (3) I noticed that the LP I was writing seemed to be (basically) the asymmetric dual of the LP constructed in the program of section (2)!\n",
    "In particular, the duality between:\n",
    "\n",
    "1. Maximize $c^T x$ subject to $Ax \\le b$. (As constructed in `linprog_values`.)\n",
    "2. Minimize $b^T y$ subject to $A^T y = c, y \\ge 0$. (As constructed in `constrained_linprog_occupancy`.)\n",
    "\n",
    "In particular, note that (before the concatenation of the normalization constraint) `equality_constraint_matrix` as constructed in section 3 is _exactly_ the transpose of `constraint_matrix` from section 2!\n",
    "Also, the `objective_vector` in section 3 is _exactly_ the `constraint_bounds` from section 2!\n",
    "\n",
    "What is going on here? This seems so cool!"
   ]
  }
 ],
 "metadata": {
  "kernelspec": {
   "display_name": "Python 3",
   "language": "python",
   "name": "python3"
  },
  "language_info": {
   "codemirror_mode": {
    "name": "ipython",
    "version": 3
   },
   "file_extension": ".py",
   "mimetype": "text/x-python",
   "name": "python",
   "nbconvert_exporter": "python",
   "pygments_lexer": "ipython3",
   "version": "3.8.3"
  }
 },
 "nbformat": 4,
 "nbformat_minor": 4
}
