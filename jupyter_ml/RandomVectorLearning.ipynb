{
 "cells": [
  {
   "cell_type": "markdown",
   "metadata": {},
   "source": [
    "## Learning a random vector.\n",
    "\n",
    "Here we train a simple fully connected network of some number of layers to learn a completely random vector over some number of classes.\n",
    "Below we train the network to categorize each of 4,096 possible inputs (encoded as a bitstring) into one of four possible categories.\n",
    "Our network architecture consists of some number of layers of linearity-then-ReLU with numbers of dimensions in each layer specified in the `architecture` variable below.\n",
    "\n",
    "The goal is to see how well the network can learn the random input as a function of its model capacity."
   ]
  },
  {
   "cell_type": "code",
   "execution_count": 1,
   "metadata": {},
   "outputs": [],
   "source": [
    "import random, math\n",
    "import numpy as np\n",
    "import tensorflow as tf"
   ]
  },
  {
   "cell_type": "code",
   "execution_count": 2,
   "metadata": {},
   "outputs": [
    {
     "name": "stdout",
     "output_type": "stream",
     "text": [
      "Total bits of entropy to memorize: 8192.0\n"
     ]
    }
   ],
   "source": [
    "# Choose the bit-length of the input to the network.\n",
    "# This is the number of input dimensions, and 2**bitlength is the number of cases the network has to memorize.\n",
    "bitlength = 12\n",
    "\n",
    "# Choose the number of possible classes there are for each input to be binned into.\n",
    "# Ths is the number of output dimensions.\n",
    "classes = 4\n",
    "\n",
    "# Choose the number of parameters in each layer, and how many layers our model has.\n",
    "architecture = [bitlength, 64, 64, 32, classes]\n",
    "\n",
    "print \"Total bits of entropy to memorize:\", 2**bitlength * math.log(classes, 2)"
   ]
  },
  {
   "cell_type": "code",
   "execution_count": 3,
   "metadata": {},
   "outputs": [],
   "source": [
    "# Generate each one-hot vector, [1, 0, ...], [0, 1, ...], ...\n",
    "one_hots = [np.array([int(i == j) for j in xrange(classes)]) for i in xrange(classes)]\n",
    "\n",
    "# Generate all 2^bitlength possible bitstring vectors.\n",
    "xs = [np.array([(n >> i) & 1 for i in xrange(bitlength)]) for n in xrange(2**bitlength)]\n",
    "\n",
    "# Choose a random one-hot vector for each possible input. This is our random function to learn.\n",
    "ys = [random.choice(one_hots) for i in xrange(2**bitlength)]"
   ]
  },
  {
   "cell_type": "code",
   "execution_count": 5,
   "metadata": {},
   "outputs": [
    {
     "name": "stdout",
     "output_type": "stream",
     "text": [
      "Linear layer: 12 -> 64\n",
      "ReLU non-linearity.\n",
      "Linear layer: 64 -> 64\n",
      "ReLU non-linearity.\n",
      "Linear layer: 64 -> 32\n",
      "ReLU non-linearity.\n",
      "Linear layer: 32 -> 4\n",
      "Total model parameters: 7204\n"
     ]
    }
   ],
   "source": [
    "total_model_parameters = 0\n",
    "prod = lambda shape: reduce(lambda x, y: x * y, shape)\n",
    "\n",
    "def weight_variable(shape):\n",
    "    global total_model_parameters\n",
    "    total_model_parameters += prod(shape)\n",
    "    stddev = (2.0 / prod(shape[:-1]))**0.5\n",
    "    return tf.Variable(tf.truncated_normal(shape, stddev=stddev))\n",
    "\n",
    "def bias_variable(shape):\n",
    "    global total_model_parameters\n",
    "    total_model_parameters += prod(shape)\n",
    "    return tf.Variable(tf.constant(0.1, shape=shape))\n",
    "\n",
    "input_ph  = tf.placeholder(tf.float32, shape=[None, bitlength], name=\"input_ph\")\n",
    "output_ph = tf.placeholder(tf.float32, shape=[None, classes], name=\"output_ph\")\n",
    "state = input_ph\n",
    "for i, (old, new) in enumerate(zip(architecture, architecture[1:])):\n",
    "    W = weight_variable([old, new])\n",
    "    b = bias_variable([new])\n",
    "    print \"Linear layer: %i -> %i\" % (old, new)\n",
    "    state = tf.matmul(state, W) + b\n",
    "    # In all but the last layer do non-linearity.\n",
    "    if i < len(architecture) - 2:\n",
    "        print \"ReLU non-linearity.\"\n",
    "        state = tf.nn.relu(state)\n",
    "\n",
    "cross_entropy = tf.reduce_mean(tf.nn.softmax_cross_entropy_with_logits(\n",
    "    labels=output_ph,\n",
    "    logits=state,\n",
    "))\n",
    "learning_rate = tf.placeholder(tf.float32, shape=[], name=\"learning_rate\")\n",
    "train_step = tf.train.MomentumOptimizer(learning_rate=learning_rate, momentum=0.9).minimize(cross_entropy)\n",
    "accuracy = tf.reduce_mean(tf.cast(\n",
    "    tf.equal(tf.argmax(state, 1), tf.argmax(output_ph, 1)),\n",
    "    tf.float32,\n",
    "))\n",
    "# Set the initial learning rate and minibatch size.\n",
    "lr = 0.05\n",
    "minibatch_size = 128\n",
    "\n",
    "sess = tf.InteractiveSession()\n",
    "sess.run(tf.initialize_all_variables())\n",
    "print \"Total model parameters:\", total_model_parameters"
   ]
  },
  {
   "cell_type": "code",
   "execution_count": 6,
   "metadata": {},
   "outputs": [
    {
     "name": "stdout",
     "output_type": "stream",
     "text": [
      "Batches:     0  Loss: 1.598050  Accuracy:  26.074%  lr = 0.050000\n",
      "Batches:  1000  Loss: 1.241138  Accuracy:  42.993%  lr = 0.048618\n",
      "Batches:  2000  Loss: 0.975282  Accuracy:  59.106%  lr = 0.046152\n",
      "Batches:  3000  Loss: 0.723648  Accuracy:  70.850%  lr = 0.043202\n",
      "Batches:  4000  Loss: 0.550412  Accuracy:  78.345%  lr = 0.040117\n",
      "Batches:  5000  Loss: 0.370409  Accuracy:  85.669%  lr = 0.037104\n",
      "Batches:  6000  Loss: 0.264545  Accuracy:  89.966%  lr = 0.034180\n",
      "Batches:  7000  Loss: 0.186842  Accuracy:  93.286%  lr = 0.031424\n",
      "Batches:  8000  Loss: 0.106592  Accuracy:  96.631%  lr = 0.028716\n",
      "Batches:  9000  Loss: 0.014635  Accuracy:  99.756%  lr = 0.027097\n",
      "Batches: 10000  Loss: 0.008257  Accuracy:  99.878%  lr = 0.026085\n",
      "Batches: 11000  Loss: 0.005889  Accuracy:  99.927%  lr = 0.024961\n",
      "Batches: 12000  Loss: 0.004543  Accuracy:  99.927%  lr = 0.024174\n",
      "Batches: 13000  Loss: 0.004033  Accuracy:  99.927%  lr = 0.023272\n",
      "Batches: 14000  Loss: 0.003629  Accuracy:  99.927%  lr = 0.022674\n",
      "Batches: 15000  Loss: 0.003376  Accuracy:  99.927%  lr = 0.021960\n",
      "Batches: 16000  Loss: 0.003182  Accuracy:  99.927%  lr = 0.021182\n",
      "Batches: 17000  Loss: 0.003053  Accuracy:  99.927%  lr = 0.020351\n",
      "Batches: 18000  Loss: 0.002925  Accuracy:  99.927%  lr = 0.019908\n",
      "Batches: 19000  Loss: 0.002818  Accuracy:  99.927%  lr = 0.019203\n"
     ]
    }
   ],
   "source": [
    "def run(f, x, y):\n",
    "    return f(feed_dict={\n",
    "        input_ph: x,\n",
    "        output_ph: y,\n",
    "        learning_rate: lr,\n",
    "    })\n",
    "\n",
    "loss_plot = []\n",
    "accuracy_plot = []\n",
    "best_loss_so_far = float(\"inf\")\n",
    "total_batches = 0\n",
    "for epoch in xrange(1000):\n",
    "    # Evaluate the loss.\n",
    "    loss = run(cross_entropy.eval, xs, ys)\n",
    "    acc  = run(accuracy.eval, xs, ys)\n",
    "    loss_plot.append(loss)\n",
    "    accuracy_plot.append(acc)\n",
    "    if total_batches % 1000 == 0:\n",
    "        print \"Batches: %5i  Loss: %8.6f  Accuracy: %7.3f%%  lr = %.6f\" % (total_batches, loss, 100 * acc, lr)\n",
    "    # Implement a learning rate schedule.\n",
    "    if loss >= best_loss_so_far:\n",
    "        lr *= 0.998\n",
    "    best_loss_so_far = min(best_loss_so_far, loss)\n",
    "    # Stop executing if we're either done, or probably can't make any further progress.\n",
    "    if acc >= 1.0 or lr < 1e-5:\n",
    "        print \"Done training.\"\n",
    "        break\n",
    "    # Do some steps.\n",
    "    for step in xrange(20):\n",
    "        batch_indices = random.sample(xrange(2**bitlength), minibatch_size)\n",
    "        inputs  = [xs[i] for i in batch_indices]\n",
    "        outputs = [ys[i] for i in batch_indices]\n",
    "        # Do a training step.\n",
    "        run(train_step.run, inputs, outputs)\n",
    "        total_batches += 1"
   ]
  },
  {
   "cell_type": "code",
   "execution_count": 7,
   "metadata": {},
   "outputs": [
    {
     "data": {
      "image/png": "[encoded data removed]",
      "text/plain": [
       "<matplotlib.figure.Figure at 0x7f177a4c7750>"
      ]
     },
     "metadata": {},
     "output_type": "display_data"
    }
   ],
   "source": [
    "%matplotlib inline\n",
    "import matplotlib.pyplot as plt\n",
    "_ = plt.plot(loss_plot)\n",
    "_ = plt.plot(accuracy_plot)"
   ]
  }
 ],
 "metadata": {
  "kernelspec": {
   "display_name": "Python 2",
   "language": "python",
   "name": "python2"
  },
  "language_info": {
   "codemirror_mode": {
    "name": "ipython",
    "version": 2
   },
   "file_extension": ".py",
   "mimetype": "text/x-python",
   "name": "python",
   "nbconvert_exporter": "python",
   "pygments_lexer": "ipython2",
   "version": "2.7.12"
  }
 },
 "nbformat": 4,
 "nbformat_minor": 2
}
