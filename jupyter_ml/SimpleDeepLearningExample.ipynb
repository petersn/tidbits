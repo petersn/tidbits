{
 "cells": [
  {
   "cell_type": "markdown",
   "metadata": {},
   "source": [
    "## MNIST with convolutional neural networks\n",
    "\n",
    "MNIST is a classic handwritten digits dataset consisting of 28x28 pixel grayscale images of handwritten digits 0 through 9, split into 55k images for training and 10k images for testing.\n",
    "Here we follow the recipe from the [TensorFlow tutorial](https://www.tensorflow.org/get_started/mnist/pros) very closely, and reproduce their results."
   ]
  },
  {
   "cell_type": "code",
   "execution_count": 1,
   "metadata": {},
   "outputs": [],
   "source": [
    "# The command \"%matplotlib inline\" is a \"Jupyter magic\" which loads a Jupyter\n",
    "# extension that lets matplotlib render its outputs directly into the Notebook.\n",
    "%matplotlib inline\n",
    "import matplotlib.pyplot as plt\n",
    "import tensorflow as tf\n",
    "import numpy as np\n",
    "import random\n",
    "\n",
    "# Here we can specify which device to use if we e.g. want to do CPU only,\n",
    "# or want to avoid conflicting with a miner running on another GPU.\n",
    "DEVICE_TO_USE = \"/gpu:0\""
   ]
  },
  {
   "cell_type": "code",
   "execution_count": 2,
   "metadata": {},
   "outputs": [
    {
     "name": "stdout",
     "output_type": "stream",
     "text": [
      "Extracting MNIST_data/train-images-idx3-ubyte.gz\n",
      "Extracting MNIST_data/train-labels-idx1-ubyte.gz\n",
      "Extracting MNIST_data/t10k-images-idx3-ubyte.gz\n",
      "Extracting MNIST_data/t10k-labels-idx1-ubyte.gz\n"
     ]
    }
   ],
   "source": [
    "# MNIST is so iconic that TensorFlow literally comes with the dataset built-in.\n",
    "from tensorflow.examples.tutorials.mnist import input_data\n",
    "mnist = input_data.read_data_sets('MNIST_data', one_hot=True)"
   ]
  },
  {
   "cell_type": "code",
   "execution_count": 3,
   "metadata": {},
   "outputs": [
    {
     "name": "stdout",
     "output_type": "stream",
     "text": [
      "Test images array shape:     (10000, 784)\n",
      "Training images array shape: (55000, 784)\n"
     ]
    },
    {
     "data": {
      "text/plain": [
       "<matplotlib.image.AxesImage at 0x7f0903a153d0>"
      ]
     },
     "execution_count": 3,
     "metadata": {},
     "output_type": "execute_result"
    },
    {
     "data": {
      "image/png": "[encoded data removed]",
      "text/plain": [
       "<matplotlib.figure.Figure at 0x7f094a06ca50>"
      ]
     },
     "metadata": {},
     "output_type": "display_data"
    }
   ],
   "source": [
    "# Each MNIST image is 28x28, but has been flattened into a single vector of length 784.\n",
    "# Thus, the test data is stored in a big numpy array of shape (10000, 784),\n",
    "# and the training data is stored of shape (55000, 784).\n",
    "print \"Test images array shape:    \", mnist.test.images.shape\n",
    "print \"Training images array shape:\", mnist.train.images.shape\n",
    "\n",
    "# We can pull out a single image of shape (784,), and then reshape it to (28, 28) to get an image.\n",
    "image = mnist.test.images[0].reshape((28, 28))\n",
    "\n",
    "# Matplotlib has a convenient array plotting function that interprets the array as a heatmap.\n",
    "plt.matshow(image)"
   ]
  },
  {
   "cell_type": "code",
   "execution_count": 4,
   "metadata": {},
   "outputs": [
    {
     "name": "stdout",
     "output_type": "stream",
     "text": [
      "Test labels array shape: (10000, 10)\n",
      "Test label for the first test image: [ 0.  0.  0.  0.  0.  0.  0.  1.  0.  0.]\n"
     ]
    }
   ],
   "source": [
    "# Test and training labels are stored in a \"one-hot\" representation as a vector of length 10.\n",
    "# A label vector has a 1 in the position corresponding to the digit's value, and 0s elsewhere.\n",
    "print \"Test labels array shape:\", mnist.test.labels.shape\n",
    "\n",
    "# Observe that the test label for the first image has a 1 in position 7 indicating a seven.\n",
    "print \"Test label for the first test image:\", mnist.test.labels[0]"
   ]
  },
  {
   "cell_type": "markdown",
   "metadata": {},
   "source": [
    "## Build a convolutional neural network.\n",
    "\n",
    "We now build a CNN to classify these 28x28 images. For more info, see the TensorFlow tutorial linked above."
   ]
  },
  {
   "cell_type": "code",
   "execution_count": 5,
   "metadata": {},
   "outputs": [
    {
     "name": "stdout",
     "output_type": "stream",
     "text": [
      "WARNING:tensorflow:From <ipython-input-5-872ac299b106>:58: softmax_cross_entropy_with_logits (from tensorflow.python.ops.nn_ops) is deprecated and will be removed in a future version.\n",
      "Instructions for updating:\n",
      "\n",
      "Future major versions of TensorFlow will allow gradients to flow\n",
      "into the labels input on backprop by default.\n",
      "\n",
      "See tf.nn.softmax_cross_entropy_with_logits_v2.\n",
      "\n"
     ]
    }
   ],
   "source": [
    "def weight_variable(shape):\n",
    "    initial = tf.truncated_normal(shape, stddev=0.1)\n",
    "    return tf.Variable(initial)\n",
    "\n",
    "def bias_variable(shape):\n",
    "    initial = tf.constant(0.1, shape=shape)\n",
    "    return tf.Variable(initial)\n",
    "\n",
    "def conv2d(x, W):\n",
    "    return tf.nn.conv2d(x, W, strides=[1, 1, 1, 1], padding='SAME')\n",
    "\n",
    "def max_pool_2x2(x):\n",
    "    return tf.nn.max_pool(x, ksize=[1, 2, 2, 1], strides=[1, 2, 2, 1], padding='SAME')\n",
    "\n",
    "# By nesting our code within this with block we force which GPU is used. (This is optional.)\n",
    "with tf.device(DEVICE_TO_USE):\n",
    "    input_placeholder = tf.placeholder(tf.float32, shape=[None, 784])\n",
    "    desired_output_placeholder = tf.placeholder(tf.float32, shape=[None, 10])\n",
    "\n",
    "    # Reshape the input from being flattened vectors into 2D arrays.\n",
    "    x_image = tf.reshape(input_placeholder, [-1, 28, 28, 1])\n",
    "    \n",
    "    # Layer 1: Convolutional, 32 filters. (conv, then bias, then ReLU, then max pooling)\n",
    "    W_conv1 = weight_variable([5, 5, 1, 32])\n",
    "    b_conv1 = bias_variable([32])\n",
    "    h_conv1 = tf.nn.relu(conv2d(x_image, W_conv1) + b_conv1)\n",
    "    h_pool1 = max_pool_2x2(h_conv1)\n",
    "\n",
    "    # Layer 2: Convolutional, 64 filters. (conv, then bias, then ReLU, then max pooling)\n",
    "    W_conv2 = weight_variable([5, 5, 32, 64])\n",
    "    b_conv2 = bias_variable([64])\n",
    "    h_conv2 = tf.nn.relu(conv2d(h_pool1, W_conv2) + b_conv2)\n",
    "    h_pool2 = max_pool_2x2(h_conv2)\n",
    "\n",
    "    # Layer 3: Fully connected. (reshape, then mult, then bias, then ReLU)\n",
    "    # Note that after two rounds of max pooling the image is only 7x7. Thus, when we reshape\n",
    "    # the 2D data back into a flat vector it is 7*7*64 long (because 64 conv filters).\n",
    "    W_fc1 = weight_variable([7 * 7 * 64, 1024])\n",
    "    b_fc1 = bias_variable([1024])\n",
    "    h_pool2_flat = tf.reshape(h_pool2, [-1, 7 * 7 * 64])\n",
    "    h_fc1 = tf.nn.relu(tf.matmul(h_pool2_flat, W_fc1) + b_fc1)\n",
    "\n",
    "    # Layer 3.5: Dropout (regularization). This is almost completely unnecessary.\n",
    "    # Here we create a scalar valued keep_prob placeholder to feed in whether or not we're training.\n",
    "    keep_prob = tf.placeholder(tf.float32)\n",
    "    h_fc1_drop = tf.nn.dropout(h_fc1, keep_prob)\n",
    "\n",
    "    # Layer 4: Fully connected. (mult, then bias, no ReLU)\n",
    "    W_fc2 = weight_variable([1024, 10])\n",
    "    b_fc2 = bias_variable([10])\n",
    "    y_conv = tf.matmul(h_fc1_drop, W_fc2) + b_fc2\n",
    "\n",
    "    # Finally, we need to define what we're optimizing.\n",
    "    # We're averaging (tf.reduce_mean) the cross-entropy (tf.nn.softmax_cross_entropy_with_logits).\n",
    "    cross_entropy = tf.reduce_mean(\n",
    "        tf.nn.softmax_cross_entropy_with_logits(\n",
    "            labels=desired_output_placeholder,\n",
    "            logits=y_conv\n",
    "        )\n",
    "    )\n",
    "    # Use a built-in optimizer with learning rate 1e-4, set to minimize cross_entropy.\n",
    "    train_step = tf.train.AdamOptimizer(1e-4).minimize(cross_entropy)\n",
    "    # Define a node that computes if the mode of our prediction is in the correct spot.\n",
    "    correct_prediction = tf.equal(tf.argmax(y_conv, 1), tf.argmax(desired_output_placeholder, 1))\n",
    "    # Define a node that casts this bool-valued tensor to {0.0, 1.0}, and then averages it.\n",
    "    accuracy = tf.reduce_mean(tf.cast(correct_prediction, tf.float32))\n",
    "\n",
    "    # Make an interactive session (throwing away all old data).\n",
    "    sess = tf.InteractiveSession()\n",
    "    sess.run(tf.global_variables_initializer())"
   ]
  },
  {
   "cell_type": "code",
   "execution_count": 6,
   "metadata": {},
   "outputs": [
    {
     "name": "stdout",
     "output_type": "stream",
     "text": [
      "Step    0: Test-set accuracy   9.23%\n",
      "Step  250: Test-set accuracy  92.17%\n",
      "Step  500: Test-set accuracy  95.00%\n",
      "Step  750: Test-set accuracy  96.07%\n",
      "Step 1000: Test-set accuracy  96.30%\n",
      "Step 1250: Test-set accuracy  96.88%\n",
      "Step 1500: Test-set accuracy  97.23%\n",
      "Step 1750: Test-set accuracy  97.65%\n",
      "Step 2000: Test-set accuracy  97.65%\n",
      "Step 2250: Test-set accuracy  97.84%\n",
      "Step 2500: Test-set accuracy  97.78%\n",
      "Step 2750: Test-set accuracy  98.19%\n",
      "Step 3000: Test-set accuracy  98.18%\n",
      "Step 3250: Test-set accuracy  98.38%\n",
      "Step 3500: Test-set accuracy  98.21%\n",
      "Step 3750: Test-set accuracy  98.12%\n",
      "Step 4000: Test-set accuracy  98.45%\n",
      "Step 4250: Test-set accuracy  98.52%\n",
      "Step 4500: Test-set accuracy  98.50%\n",
      "Step 4750: Test-set accuracy  98.66%\n",
      "Final result: Test-set accuracy  98.79%\n"
     ]
    }
   ],
   "source": [
    "def print_accuracy():\n",
    "    test_accuracy = accuracy.eval(feed_dict={\n",
    "        input_placeholder: mnist.test.images,\n",
    "        desired_output_placeholder: mnist.test.labels,\n",
    "        keep_prob: 1.0,\n",
    "    })\n",
    "    print \"Test-set accuracy %6.2f%%\" % (test_accuracy * 100,)\n",
    "\n",
    "for training_step in xrange(5000):\n",
    "    # Get a mini-batch that consists of (fifty images, fifty labels).\n",
    "    # Thus, batch[0] has shape (50, 784) and batch[1] has shape (50, 10).\n",
    "    batch = mnist.train.next_batch(50)\n",
    "\n",
    "    # Print accuracy periodically.\n",
    "    if training_step % 250 == 0:\n",
    "        print \"Step %4i:\" % (training_step,),\n",
    "        print_accuracy()\n",
    "\n",
    "    # Do a training step on the batch!\n",
    "    train_step.run(feed_dict={\n",
    "        input_placeholder: batch[0],\n",
    "        desired_output_placeholder: batch[1],\n",
    "        keep_prob: 0.5,\n",
    "    })\n",
    "\n",
    "print \"Final result:\",\n",
    "print_accuracy()"
   ]
  },
  {
   "cell_type": "markdown",
   "metadata": {},
   "source": [
    "## Model usage.\n",
    "\n",
    "We trained our model to minimize softmax cross-entropy between its 10 dimensional output in the node `y_conv` and the one-hot label vectors from the training set.\n",
    "\n",
    "As a result, we can now evaluate the `y_conv` node on new images to get classification logits out.\n",
    "To convert these logits to a probability distribution we need to softmax them, specifically where $l_i$ is the array of logits, the probability that we classify the digit as $i$ is:\n",
    "\n",
    "$$ p(i) = \\frac{\\operatorname{exp}(l_i)}{\\sum_{k=0}^9 \\operatorname{exp}(l_k)} $$\n",
    "\n",
    "This is the softmax function. The `softmax` function below is just a more numerically stable way of writing this."
   ]
  },
  {
   "cell_type": "code",
   "execution_count": 7,
   "metadata": {},
   "outputs": [],
   "source": [
    "def classify(image):\n",
    "    def softmax(logits):\n",
    "        \"\"\"Somewhat numerically stable softmax routine.\"\"\"\n",
    "        e_x = np.exp(logits - np.max(logits))\n",
    "        return e_x / e_x.sum()\n",
    "    # Feed in just the one image.\n",
    "    logits = y_conv.eval(feed_dict={input_placeholder: [image], keep_prob: 1.0})\n",
    "    # Softmax the logits to get a normalized probability distribution out.\n",
    "    distribution = softmax(logits)\n",
    "    return distribution"
   ]
  },
  {
   "cell_type": "markdown",
   "metadata": {},
   "source": [
    "We now pull out three random images from the test set and look at the distribution of answers our classifier gives.\n",
    "Because the classifier is almost always almost completely certain about its result, we raise the distribution to the 0.1 power to amplify the low-probability guesses, purely for rendering purposes to make the (slight) uncertainty more visible.\n",
    "Rerun the cell to see more examples."
   ]
  },
  {
   "cell_type": "code",
   "execution_count": 8,
   "metadata": {},
   "outputs": [
    {
     "data": {
      "image/png": "[encoded data removed]",
      "text/plain": [
       "<matplotlib.figure.Figure at 0x7fd8da206cd0>"
      ]
     },
     "metadata": {},
     "output_type": "display_data"
    },
    {
     "data": {
      "image/png": "[encoded data removed]",
      "text/plain": [
       "<matplotlib.figure.Figure at 0x7fd8d66bb050>"
      ]
     },
     "metadata": {},
     "output_type": "display_data"
    },
    {
     "data": {
      "image/png": "[encoded data removed]",
      "text/plain": [
       "<matplotlib.figure.Figure at 0x7fd8d5e86410>"
      ]
     },
     "metadata": {},
     "output_type": "display_data"
    },
    {
     "data": {
      "image/png": "[encoded data removed]",
      "text/plain": [
       "<matplotlib.figure.Figure at 0x7fd8d57cd990>"
      ]
     },
     "metadata": {},
     "output_type": "display_data"
    },
    {
     "data": {
      "image/png": "[encoded data removed]",
      "text/plain": [
       "<matplotlib.figure.Figure at 0x7fd8d57da310>"
      ]
     },
     "metadata": {},
     "output_type": "display_data"
    },
    {
     "data": {
      "image/png": "[encoded data removed]",
      "text/plain": [
       "<matplotlib.figure.Figure at 0x7fd8cd137d50>"
      ]
     },
     "metadata": {},
     "output_type": "display_data"
    }
   ],
   "source": [
    "indices = random.sample(range(len(mnist.test.images)), 3)\n",
    "for index in indices:\n",
    "    image = mnist.test.images[index]\n",
    "    plt.matshow(image.reshape((28, 28)))\n",
    "    distribution = classify(image)\n",
    "    plt.matshow(distribution**0.1)"
   ]
  }
 ],
 "metadata": {
  "kernelspec": {
   "display_name": "Python 2",
   "language": "python",
   "name": "python2"
  },
  "language_info": {
   "codemirror_mode": {
    "name": "ipython",
    "version": 2
   },
   "file_extension": ".py",
   "mimetype": "text/x-python",
   "name": "python",
   "nbconvert_exporter": "python",
   "pygments_lexer": "ipython2",
   "version": "2.7.13"
  }
 },
 "nbformat": 4,
 "nbformat_minor": 2
}
