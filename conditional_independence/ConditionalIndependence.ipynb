{
 "cells": [
  {
   "cell_type": "markdown",
   "metadata": {},
   "source": [
    "# Non-independence.\n",
    "\n",
    "Let $A \\in \\{0, 1\\}^{n \\times n}$ be an $n \\times n$ matrix with each entry sampled i.i.d. from $\\{0, 1\\}$, and let $b \\in \\{0, 1\\}^n$ be a column vector of length $n$ again with each entry sampled i.i.d. from $\\{0, 1\\}$.\n",
    "\n",
    "Clearly each entry of $A b$ is binomially distributed as $B(n, 1/4)$, but how are they jointly distributed?\n",
    "Are the entries of $A b$ mutually independent, or even pairwise independent? We answer both in the negative, but show that in the $n = 2$ case that the entries are mutually independent conditioned on $b$, and assert generality without proof."
   ]
  },
  {
   "cell_type": "code",
   "execution_count": 1,
   "metadata": {},
   "outputs": [
    {
     "data": {
      "text/plain": [
       "defaultdict(<function __main__.<lambda>>,\n",
       "            {(0, 0): 25,\n",
       "             (0, 1): 10,\n",
       "             (0, 2): 1,\n",
       "             (1, 0): 10,\n",
       "             (1, 1): 12,\n",
       "             (1, 2): 2,\n",
       "             (2, 0): 1,\n",
       "             (2, 1): 2,\n",
       "             (2, 2): 1})"
      ]
     },
     "execution_count": 1,
     "metadata": {},
     "output_type": "execute_result"
    }
   ],
   "source": [
    "import itertools, collections, numpy\n",
    "\n",
    "# This dictionary will accumulate our occurence counts for each possible value of $A b$.\n",
    "outcomes = collections.defaultdict(lambda: 0)\n",
    "\n",
    "# Let's test all 2^6 possible choices of bits that comprise $A$ and $b$.\n",
    "for bits in itertools.product(*[(0, 1)]*6):\n",
    "    # Take the first four bits and make a 2x2 matrix out of them.\n",
    "    A = numpy.array(bits[:4]).reshape((2, 2))\n",
    "    # Take the last two bits as a vector.\n",
    "    b = bits[4:]\n",
    "    # Take the matrix product, and increment the corresponding bucket in `outcomes`.\n",
    "    outcome = A.dot(b)\n",
    "    outcomes[tuple(outcome)] += 1\n",
    "\n",
    "outcomes"
   ]
  },
  {
   "cell_type": "code",
   "execution_count": 2,
   "metadata": {},
   "outputs": [
    {
     "data": {
      "text/plain": [
       "array([[25, 10,  1],\n",
       "       [10, 12,  2],\n",
       "       [ 1,  2,  1]])"
      ]
     },
     "execution_count": 2,
     "metadata": {},
     "output_type": "execute_result"
    }
   ],
   "source": [
    "# Convert our above table of occurences into a 3x3 matrix of occurence counts.\n",
    "J = numpy.array([\n",
    "    outcomes[i, j]\n",
    "    for i in xrange(3)\n",
    "    for j in xrange(3)\n",
    "]).reshape((3, 3))\n",
    "J"
   ]
  },
  {
   "cell_type": "markdown",
   "metadata": {},
   "source": [
    "We have now computed a matrix $J$ that captures the joint distribution of the two entries of $A b$, satisfying the following by construction:\n",
    "\n",
    "$$ \\mathbb{P}[ A b = (x, y) ] \\propto J_{x, y} $$\n",
    "\n",
    "The definition of the first entry of $A b$ being independent from the second entry of $A b$ is that:\n",
    "\n",
    "$$ \\mathbb{P}[ A b = (x, y) ] = \\mathbb{P}[ (A b)_1 = x ] \\cdot \\mathbb{P}[ (A b)_2 = y ] $$\n",
    "\n",
    "Substituting in our $J$ from above, we see that this independence would imply that:\n",
    "\n",
    "$$ J_{x, y} \\propto \\underbrace{\\mathbb{P}[ (A b)_1 = x ]}_{f(x)} \\cdot \\underbrace{\\mathbb{P}[ (A b)_2 = y ]}_{g(y)} $$\n",
    "\n",
    "Here we have named the marginal distributions of the two entries of $A b$ as $f$ and $g$ respectively.\n",
    "\n",
    "This condition is simply separability, and would allow us to rewrite $J$ as an outer-product of the two marginal distribution vectors:\n",
    "\n",
    "$$ J_{x, y} \\propto [f(0), f(1), f(2)]^T [g(0), g(1), g(2)] $$\n",
    "\n",
    "This would imply that $J$ has rank one, and thus determinant zero."
   ]
  },
  {
   "cell_type": "code",
   "execution_count": 3,
   "metadata": {},
   "outputs": [
    {
     "data": {
      "text/plain": [
       "127.99999999999997"
      ]
     },
     "execution_count": 3,
     "metadata": {},
     "output_type": "execute_result"
    }
   ],
   "source": [
    "numpy.linalg.det(J)"
   ]
  },
  {
   "cell_type": "markdown",
   "metadata": {},
   "source": [
    "But lo and behold, $J$ has nonzero determinant, and thus is not of rank one, and therefore is not separable, proving that the two entries $(A b)_1$ and $(A b)_2$ are not independent.\n",
    "\n",
    "## Conditional independence.\n",
    "\n",
    "But are $(A b)_1$ and $(A b)_2$ independent conditioned on $b$?\n",
    "Let's show numerically that they are in the $n = 2$ case."
   ]
  },
  {
   "cell_type": "code",
   "execution_count": 4,
   "metadata": {},
   "outputs": [
    {
     "name": "stdout",
     "output_type": "stream",
     "text": [
      "b = (0, 0)\n",
      "J:\n",
      "[[16  0  0]\n",
      " [ 0  0  0]\n",
      " [ 0  0  0]]\n",
      "J's rank: 1\n",
      "\n",
      "b = (0, 1)\n",
      "J:\n",
      "[[4 4 0]\n",
      " [4 4 0]\n",
      " [0 0 0]]\n",
      "J's rank: 1\n",
      "\n",
      "b = (1, 0)\n",
      "J:\n",
      "[[4 4 0]\n",
      " [4 4 0]\n",
      " [0 0 0]]\n",
      "J's rank: 1\n",
      "\n",
      "b = (1, 1)\n",
      "J:\n",
      "[[1 2 1]\n",
      " [2 4 2]\n",
      " [1 2 1]]\n",
      "J's rank: 1\n",
      "\n"
     ]
    }
   ],
   "source": [
    "for b in itertools.product(*[(0, 1)]*2):\n",
    "    outcomes = collections.defaultdict(lambda: 0)\n",
    "    for A_bits in itertools.product(*[(0, 1)]*4):\n",
    "        A = numpy.array(A_bits[:4]).reshape((2, 2))\n",
    "        outcome = A.dot(b)\n",
    "        outcomes[tuple(outcome)] += 1\n",
    "    J = numpy.array([\n",
    "        outcomes[i, j]\n",
    "        for i in xrange(3)\n",
    "        for j in xrange(3)\n",
    "    ]).reshape((3, 3))\n",
    "    print \"b =\", b\n",
    "    print \"J:\"\n",
    "    print J\n",
    "    print \"J's rank:\", numpy.linalg.matrix_rank(J)\n",
    "    print"
   ]
  },
  {
   "cell_type": "markdown",
   "metadata": {},
   "source": [
    "Indeed we see that the matrix $J$ is of rank one for each value of $b$, and thus separable, proving the *conditional* independence of $(A b)_1$ and $(A b)_2$ given $b$."
   ]
  }
 ],
 "metadata": {
  "kernelspec": {
   "display_name": "Python 2",
   "language": "python",
   "name": "python2"
  },
  "language_info": {
   "codemirror_mode": {
    "name": "ipython",
    "version": 2
   },
   "file_extension": ".py",
   "mimetype": "text/x-python",
   "name": "python",
   "nbconvert_exporter": "python",
   "pygments_lexer": "ipython2",
   "version": "2.7.13"
  }
 },
 "nbformat": 4,
 "nbformat_minor": 2
}
