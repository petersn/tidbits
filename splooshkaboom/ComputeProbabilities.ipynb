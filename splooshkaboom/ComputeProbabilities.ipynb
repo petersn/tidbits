{
 "cells": [
  {
   "cell_type": "code",
   "execution_count": 1,
   "metadata": {},
   "outputs": [
    {
     "name": "stdout",
     "output_type": "stream",
     "text": [
      "Length: 604584\n",
      "Probs: set([659456, 630784, 581504, 520128, 633360, 510496, 675360, 623616, 500864, 642096, 591360, 545664, 598080, 631904, 643104, 710976, 578144, 627984, 601216, 680064, 682864, 621712, 611072, 635040, 535920, 687792, 685440, 607936, 611520, 618016, 655200, 645120, 522368, 690368, 506688, 667856, 620928, 604800, 695520, 662480, 564480, 647920, 532224, 700672, 638848, 703248, 594720, 652848, 558208, 608048, 542080, 640640, 628544, 657888, 677824, 693056, 616448, 669760, 516432, 614880, 606816, 713440, 526176, 551936, 574560, 597184, 650496, 568176, 624960, 618240, 587552, 721280, 705600, 555408, 577920, 561792, 672672, 601328, 660352, 568288, 652288, 574896, 558656, 665280, 649152, 626080, 565152, 549024, 571648, 594384, 670208, 539392, 604128, 588112, 584640, 637952, 591136, 613872, 529760])\n",
      "Total prob: 1.0\n"
     ]
    }
   ],
   "source": [
    "from __future__ import print_function\n",
    "import itertools, struct\n",
    "\n",
    "valid_cells = [\n",
    "    (i, j)\n",
    "    for i in range(8)\n",
    "    for j in range(8)\n",
    "]\n",
    "valid_cells_set = set(valid_cells)\n",
    "\n",
    "# This includes some impossible origins, but it doesn't matter because we filter down later.\n",
    "squid_origins = [\n",
    "    (squid_top_left, squid_direction)\n",
    "    for squid_top_left in valid_cells\n",
    "    for squid_direction in (False, True)\n",
    "]\n",
    "\n",
    "def squid_spot(squid_desc, offset):\n",
    "    (x, y), direction = squid_desc\n",
    "    return (x + offset, y) if direction else (x, y + offset)\n",
    "\n",
    "def _find_all_configs(masks, inverse_weights, taken_so_far, remaining_lengths, denom):\n",
    "    if len(remaining_lengths) == 0:\n",
    "        masks.append(taken_so_far)\n",
    "        inverse_weights.append(denom)\n",
    "        return\n",
    "\n",
    "    squid_len = remaining_lengths[0]\n",
    "    good_descs = []\n",
    "    for squid_desc in squid_origins:\n",
    "        for offset in range(squid_len):\n",
    "            new_spot = squid_spot(squid_desc, offset)\n",
    "            if new_spot in taken_so_far or new_spot not in valid_cells_set:\n",
    "                break\n",
    "        else:\n",
    "            good_descs.append(squid_desc)\n",
    "\n",
    "    for squid_desc in good_descs:\n",
    "        t = taken_so_far.copy()\n",
    "        for offset in range(squid_len):\n",
    "            t.add(squid_spot(squid_desc, offset))\n",
    "        _find_all_configs(masks, inverse_weights, t, remaining_lengths[1:], denom * len(good_descs))\n",
    "\n",
    "    return find_all_configs\n",
    "\n",
    "def find_all_configs(lengths):\n",
    "    masks = []\n",
    "    inverse_weights = []\n",
    "    _find_all_configs(masks, inverse_weights, set(), lengths, 1)\n",
    "    return masks, inverse_weights\n",
    "\n",
    "masks,    inverse_weights    = find_all_configs([2, 3, 4])\n",
    "# These are NOT the correct weights, but compute them for fun.\n",
    "#masks432, inverse_weights432 = find_all_configs([4, 3, 2])\n",
    "print(\"Length:\", len(masks))\n",
    "print(\"Probs:\", set(inverse_weights))\n",
    "\n",
    "total_prob = 0\n",
    "for w in inverse_weights:\n",
    "    total_prob += 1.0 / w\n",
    "print(\"Total prob:\", total_prob)"
   ]
  },
  {
   "cell_type": "code",
   "execution_count": 2,
   "metadata": {},
   "outputs": [],
   "source": [
    "import numpy as np\n",
    "from matplotlib import pyplot as plt"
   ]
  },
  {
   "cell_type": "code",
   "execution_count": 3,
   "metadata": {},
   "outputs": [],
   "source": [
    "probabs    = np.array([1.0 / w for w in inverse_weights])\n",
    "#probabs432 = np.array([1.0 / w for w in inverse_weights432])"
   ]
  },
  {
   "cell_type": "code",
   "execution_count": 19,
   "metadata": {},
   "outputs": [
    {
     "name": "stdout",
     "output_type": "stream",
     "text": [
      "Maximum bias: 1.4400715563506261\n"
     ]
    }
   ],
   "source": [
    "print(\"Maximum bias:\", max(probabs) / min(probabs))"
   ]
  },
  {
   "cell_type": "code",
   "execution_count": 4,
   "metadata": {},
   "outputs": [
    {
     "data": {
      "text/plain": [
       "<matplotlib.image.AxesImage at 0x7f742af6b650>"
      ]
     },
     "execution_count": 4,
     "metadata": {},
     "output_type": "execute_result"
    },
    {
     "data": {
      "image/png": "[encoded data removed]",
      "text/plain": [
       "<matplotlib.figure.Figure at 0x7f746bb48e50>"
      ]
     },
     "metadata": {},
     "output_type": "display_data"
    }
   ],
   "source": [
    "plt.matshow(probabs.reshape((622, 972)))\n",
    "#plt.matshow(probabs432.reshape((622, 972)))"
   ]
  },
  {
   "cell_type": "raw",
   "metadata": {},
   "source": [
    "probabs432 / probabs"
   ]
  },
  {
   "cell_type": "raw",
   "metadata": {},
   "source": [
    "probabs432.max() / probabs432.min()"
   ]
  },
  {
   "cell_type": "raw",
   "metadata": {},
   "source": [
    "probabs432.max() / probabs432.min()"
   ]
  },
  {
   "cell_type": "code",
   "execution_count": 5,
   "metadata": {},
   "outputs": [],
   "source": [
    "# We now build a matrix.\n",
    "presence_matrix = np.array([[cell in mask for cell in valid_cells] for mask in masks], dtype=np.int8)\n",
    "probab_weighted_presence_matrix = presence_matrix * probabs.reshape((-1, 1))"
   ]
  },
  {
   "cell_type": "code",
   "execution_count": 16,
   "metadata": {},
   "outputs": [],
   "source": [
    "cell_to_index = {cell: i for i, cell in enumerate(valid_cells)}\n",
    "\n",
    "def compute_probabilities(hits, misses):\n",
    "    # This is a simple Bayes update.\n",
    "    #   P(cell contains squid | observation) =\n",
    "    #       P(cell contains squid AND observation) / P(observation)\n",
    "    # Note that P(cell contains squid AND observation) is just P(cell contains squid)\n",
    "    # if the observation is compatible\n",
    "    # Start with a mask saying every possible board is admissible.\n",
    "    mask = np.array([True] * presence_matrix.shape[0], np.bool)\n",
    "    # Filter out all the boards that are incompatible with a hit we've seen so far.\n",
    "    for hit in hits:\n",
    "        mask &= presence_matrix[:, cell_to_index[hit]] == 1\n",
    "    # Filter out all the boards that are incompatible with a miss we've seen so far.\n",
    "    for miss in misses:\n",
    "        mask &= presence_matrix[:, cell_to_index[miss]] == 0\n",
    "    # Compute the total probability of every board layout compatible with our observation.\n",
    "    # This is simply P(observation).\n",
    "    observation_probability = probabs[mask].sum()\n",
    "    # Marginalize the distribution, and renormalize by the \n",
    "    return probab_weighted_presence_matrix[mask].sum(axis=0) / observation_probability\n",
    "\n",
    "def make_greedy_move(hits, misses):\n",
    "    weights = compute_probabilities(hits, misses)\n",
    "    for cell in hits + misses:\n",
    "        weights[cell_to_index[cell]] = -1\n",
    "    return valid_cells[np.argmax(weights)]"
   ]
  },
  {
   "cell_type": "code",
   "execution_count": 7,
   "metadata": {},
   "outputs": [
    {
     "data": {
      "text/plain": [
       "<matplotlib.image.AxesImage at 0x7f7425ffb2d0>"
      ]
     },
     "execution_count": 7,
     "metadata": {},
     "output_type": "execute_result"
    },
    {
     "data": {
      "image/png": "[encoded data removed]",
      "text/plain": [
       "<matplotlib.figure.Figure at 0x7f742af98310>"
      ]
     },
     "metadata": {},
     "output_type": "display_data"
    }
   ],
   "source": [
    "plt.matshow(probab_weighted_presence_matrix.sum(axis=0).reshape(8, 8))"
   ]
  },
  {
   "cell_type": "code",
   "execution_count": 12,
   "metadata": {},
   "outputs": [
    {
     "data": {
      "text/plain": [
       "<matplotlib.image.AxesImage at 0x7f7428766610>"
      ]
     },
     "execution_count": 12,
     "metadata": {},
     "output_type": "execute_result"
    },
    {
     "data": {
      "image/png": "[encoded data removed]",
      "text/plain": [
       "<matplotlib.figure.Figure at 0x7f74289b2090>"
      ]
     },
     "metadata": {},
     "output_type": "display_data"
    }
   ],
   "source": [
    "plt.matshow(compute_probabilities([(3, 4)], [(3, 3), (4, 4)]).reshape(8, 8))"
   ]
  },
  {
   "cell_type": "code",
   "execution_count": 18,
   "metadata": {},
   "outputs": [
    {
     "data": {
      "text/plain": [
       "(2, 4)"
      ]
     },
     "execution_count": 18,
     "metadata": {},
     "output_type": "execute_result"
    }
   ],
   "source": [
    "make_greedy_move([(3, 4)], [(3, 3), (4, 4)])"
   ]
  },
  {
   "cell_type": "code",
   "execution_count": null,
   "metadata": {},
   "outputs": [],
   "source": [
    "def make_board():\n",
    "    "
   ]
  },
  {
   "cell_type": "code",
   "execution_count": null,
   "metadata": {},
   "outputs": [],
   "source": [
    "def play_random_game():\n",
    "    "
   ]
  }
 ],
 "metadata": {
  "kernelspec": {
   "display_name": "Python 2",
   "language": "python",
   "name": "python2"
  },
  "language_info": {
   "codemirror_mode": {
    "name": "ipython",
    "version": 2
   },
   "file_extension": ".py",
   "mimetype": "text/x-python",
   "name": "python",
   "nbconvert_exporter": "python",
   "pygments_lexer": "ipython2",
   "version": "2.7.16"
  }
 },
 "nbformat": 4,
 "nbformat_minor": 2
}
