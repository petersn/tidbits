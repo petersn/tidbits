{
 "cells": [
  {
   "cell_type": "markdown",
   "metadata": {},
   "source": [
    "# How to hit my API\n",
    "\n",
    "To hit my endpoint, just tell it which cells you've already tried, and which are hits and which were misses.\n",
    "Additionally, tell it how many squids the game interface has told you that you've already completely gotten."
   ]
  },
  {
   "cell_type": "code",
   "execution_count": 145,
   "metadata": {},
   "outputs": [
    {
     "name": "stdout",
     "output_type": "stream",
     "text": [
      "{u'probabilities': [[0.060645336709802454, 0.09053182512999641, 0.11283682523532473, 0.10350328941217117, 0.1155941074132279, 0.11248507162886356, 0.09031447512402138, 0.06052794031418309], [0.09054862965867914, 0.1200728998409064, 0.1417878894109371, 0.09838519052380096, 0.21788813249825803, 0.1354130921967604, 0.11626045234112597, 0.09028212285321251], [0.10250232887529791, 0.11142360112684524, 0.10505891552373761, 0.0, 0.33544485862352846, 0.11166394441806417, 0.12237779189275733, 0.10948546410632173], [0.11415081654399122, 0.12270810041781884, 0.11659400169889055, 0.0, 0.5573360398173911, 0.09296719018996004, 0.12410050072513386, 0.11628577442147912], [0.11390199021096865, 0.12204081638786216, 0.11557398062470461, 0.0, 1.0, 0.2783948978492565, 0.2761045076683967, 0.19009995090492526], [0.11216245511278808, 0.13699839095209532, 0.1453789455179896, 0.06889104293862662, 0.5448441373719176, 0.0, 0.08237972556948377, 0.06738540597806046], [0.09019533863069447, 0.11748776882102709, 0.1354908819706733, 0.10973337720269706, 0.3599764721636858, 0.07853967240855034, 0.11164074912377142, 0.0586551802320072], [0.06051034947897552, 0.09028733188057339, 0.1109788065637274, 0.1111131153767191, 0.18578786077369666, 0.0676207169836834, 0.058649522630126474, 0.0]], u'highest_prob': [4, 4], u'is_possible': True}\n"
     ]
    }
   ],
   "source": [
    "from __future__ import print_function\n",
    "import requests\n",
    "import numpy as np\n",
    "import matplotlib.pyplot as plt\n",
    "\n",
    "response = requests.post(\n",
    "    \"http://ec2-34-223-48-61.us-west-2.compute.amazonaws.com:1234/sk\",\n",
    "    json={\n",
    "        # Cells we've already tried and hit.\n",
    "        \"hits\": [(4, 4)],\n",
    "        # Cells we've already tried and missed.\n",
    "        \"misses\": [(3, 3), (3, 2), (3, 4), (5, 5), (7, 7)],\n",
    "        # Squids we've already gotten.\n",
    "        \"squids_gotten\": 0,\n",
    "    },\n",
    ")\n",
    "print(response.json())"
   ]
  },
  {
   "cell_type": "markdown",
   "metadata": {},
   "source": [
    " Make sure to double check the `is_possible` field! The `probabilities` field will give a list of length 8 of lists of length 8 giving probabilities of finding any squid part in each of the 64 cells. These probabilities are exact -- they're NOT approximated nor estimated via Monte Carlo methods. It's just a direct computation of:\n",
    "\n",
    "$$ P(\\text{squid)\\ |\\ \\text{observation}) = \\frac{P(\\text{squid)\\ \\cap\\ \\text{observation})}{P(\\text{observation})} $$\n",
    " \n",
    " "
   ]
  },
  {
   "cell_type": "code",
   "execution_count": 149,
   "metadata": {},
   "outputs": [],
   "source": [
    "def show_payload(payload):\n",
    "    response = requests.post(\n",
    "        \"http://ec2-34-223-48-61.us-west-2.compute.amazonaws.com:1234/sk\",\n",
    "        json=payload,\n",
    "    ).json()\n",
    "    if not response[\"is_possible\"]:\n",
    "        print(\"Impossible conditions!\")\n",
    "        return\n",
    "    plt.matshow(response[\"probabilities\"])"
   ]
  },
  {
   "cell_type": "code",
   "execution_count": 150,
   "metadata": {},
   "outputs": [
    {
     "data": {
      "image/png": "[encoded data removed]",
      "text/plain": [
       "<matplotlib.figure.Figure at 0x7f7410bc74d0>"
      ]
     },
     "metadata": {},
     "output_type": "display_data"
    }
   ],
   "source": [
    "show_payload({\n",
    "    \"hits\": [(4, 4)],\n",
    "    \"misses\": [(3, 3), (3, 2), (3, 4), (5, 5), (7, 7)],\n",
    "    \"squids_gotten\": 0,\n",
    "})"
   ]
  },
  {
   "cell_type": "code",
   "execution_count": 151,
   "metadata": {},
   "outputs": [
    {
     "name": "stdout",
     "output_type": "stream",
     "text": [
      "Impossible conditions!\n"
     ]
    }
   ],
   "source": [
    "show_payload({\n",
    "    \"hits\": [(4, 4)],\n",
    "    \"misses\": [(3, 3), (3, 2), (3, 4), (5, 5), (7, 7)],\n",
    "    \"squids_gotten\": 1,\n",
    "})"
   ]
  },
  {
   "cell_type": "code",
   "execution_count": 152,
   "metadata": {},
   "outputs": [
    {
     "data": {
      "image/png": "[encoded data removed]",
      "text/plain": [
       "<matplotlib.figure.Figure at 0x7f7410c30d10>"
      ]
     },
     "metadata": {},
     "output_type": "display_data"
    }
   ],
   "source": [
    "show_payload({\n",
    "    \"hits\": [(3, 3), (3, 2), (3, 4), (5, 5), (7, 7)],\n",
    "    \"misses\": [(4, 4)],\n",
    "    \"squids_gotten\": 0,\n",
    "})"
   ]
  },
  {
   "cell_type": "code",
   "execution_count": 153,
   "metadata": {},
   "outputs": [
    {
     "data": {
      "image/png": "[encoded data removed]",
      "text/plain": [
       "<matplotlib.figure.Figure at 0x7f7410815b10>"
      ]
     },
     "metadata": {},
     "output_type": "display_data"
    }
   ],
   "source": [
    "show_payload({\n",
    "    \"hits\": [(3, 3), (3, 2), (3, 4), (5, 5), (7, 7)],\n",
    "    \"misses\": [(4, 4)],\n",
    "    \"squids_gotten\": 1,\n",
    "})"
   ]
  },
  {
   "cell_type": "markdown",
   "metadata": {},
   "source": [
    "# How to calculate it yourself\n",
    "(But without the squid logic, although that's an easy enough addition."
   ]
  },
  {
   "cell_type": "code",
   "execution_count": 1,
   "metadata": {},
   "outputs": [
    {
     "name": "stdout",
     "output_type": "stream",
     "text": [
      "Length: 604584\n",
      "Probs: set([659456, 630784, 581504, 520128, 633360, 510496, 675360, 623616, 500864, 642096, 591360, 545664, 598080, 631904, 643104, 710976, 578144, 627984, 601216, 680064, 682864, 621712, 611072, 635040, 535920, 687792, 685440, 607936, 611520, 618016, 655200, 645120, 522368, 690368, 506688, 667856, 620928, 604800, 695520, 662480, 564480, 647920, 532224, 700672, 638848, 703248, 594720, 652848, 558208, 608048, 542080, 640640, 628544, 657888, 677824, 693056, 616448, 669760, 516432, 614880, 606816, 713440, 526176, 551936, 574560, 597184, 650496, 568176, 624960, 618240, 587552, 721280, 705600, 555408, 577920, 561792, 672672, 601328, 660352, 568288, 652288, 574896, 558656, 665280, 649152, 626080, 565152, 549024, 571648, 594384, 670208, 539392, 604128, 588112, 584640, 637952, 591136, 613872, 529760])\n",
      "Total prob: 1.0\n"
     ]
    }
   ],
   "source": [
    "import itertools, struct\n",
    "\n",
    "valid_cells = [\n",
    "    (i, j)\n",
    "    for i in range(8)\n",
    "    for j in range(8)\n",
    "]\n",
    "valid_cells_set = set(valid_cells)\n",
    "\n",
    "# This includes some impossible origins, but it doesn't matter because we filter down later.\n",
    "squid_origins = [\n",
    "    (squid_top_left, squid_direction)\n",
    "    for squid_top_left in valid_cells\n",
    "    for squid_direction in (False, True)\n",
    "]\n",
    "\n",
    "def squid_spot(squid_desc, offset):\n",
    "    (x, y), direction = squid_desc\n",
    "    return (x + offset, y) if direction else (x, y + offset)\n",
    "\n",
    "def _find_all_configs(masks, inverse_weights, taken_so_far, remaining_lengths, denom):\n",
    "    if len(remaining_lengths) == 0:\n",
    "        masks.append(taken_so_far)\n",
    "        inverse_weights.append(denom)\n",
    "        return\n",
    "\n",
    "    squid_len = remaining_lengths[0]\n",
    "    good_descs = []\n",
    "    for squid_desc in squid_origins:\n",
    "        for offset in range(squid_len):\n",
    "            new_spot = squid_spot(squid_desc, offset)\n",
    "            if new_spot in taken_so_far or new_spot not in valid_cells_set:\n",
    "                break\n",
    "        else:\n",
    "            good_descs.append(squid_desc)\n",
    "\n",
    "    for squid_desc in good_descs:\n",
    "        t = taken_so_far.copy()\n",
    "        for offset in range(squid_len):\n",
    "            t.add(squid_spot(squid_desc, offset))\n",
    "        _find_all_configs(masks, inverse_weights, t, remaining_lengths[1:], denom * len(good_descs))\n",
    "\n",
    "    return find_all_configs\n",
    "\n",
    "def find_all_configs(lengths):\n",
    "    masks = []\n",
    "    inverse_weights = []\n",
    "    _find_all_configs(masks, inverse_weights, set(), lengths, 1)\n",
    "    return masks, inverse_weights\n",
    "\n",
    "masks,    inverse_weights    = find_all_configs([2, 3, 4])\n",
    "# These are NOT the correct weights, but compute them for fun.\n",
    "#masks432, inverse_weights432 = find_all_configs([4, 3, 2])\n",
    "print(\"Length:\", len(masks))\n",
    "print(\"Probs:\", set(inverse_weights))\n",
    "\n",
    "total_prob = 0\n",
    "for w in inverse_weights:\n",
    "    total_prob += 1.0 / w\n",
    "print(\"Total prob:\", total_prob)"
   ]
  },
  {
   "cell_type": "code",
   "execution_count": null,
   "metadata": {},
   "outputs": [],
   "source": [
    "# Write out files.\n"
   ]
  },
  {
   "cell_type": "code",
   "execution_count": 23,
   "metadata": {},
   "outputs": [
    {
     "data": {
      "text/plain": [
       "604584"
      ]
     },
     "execution_count": 23,
     "metadata": {},
     "output_type": "execute_result"
    }
   ],
   "source": [
    "len(masks)"
   ]
  },
  {
   "cell_type": "code",
   "execution_count": 2,
   "metadata": {},
   "outputs": [],
   "source": [
    "import numpy as np\n",
    "from matplotlib import pyplot as plt"
   ]
  },
  {
   "cell_type": "code",
   "execution_count": 3,
   "metadata": {},
   "outputs": [],
   "source": [
    "probabs    = np.array([1.0 / w for w in inverse_weights])\n",
    "#probabs432 = np.array([1.0 / w for w in inverse_weights432])"
   ]
  },
  {
   "cell_type": "code",
   "execution_count": 19,
   "metadata": {},
   "outputs": [
    {
     "name": "stdout",
     "output_type": "stream",
     "text": [
      "Maximum bias: 1.4400715563506261\n"
     ]
    }
   ],
   "source": [
    "print(\"Maximum bias:\", max(probabs) / min(probabs))"
   ]
  },
  {
   "cell_type": "code",
   "execution_count": 4,
   "metadata": {},
   "outputs": [
    {
     "data": {
      "text/plain": [
       "<matplotlib.image.AxesImage at 0x7f742af6b650>"
      ]
     },
     "execution_count": 4,
     "metadata": {},
     "output_type": "execute_result"
    },
    {
     "data": {
      "image/png": "[encoded data removed]",
      "text/plain": [
       "<matplotlib.figure.Figure at 0x7f746bb48e50>"
      ]
     },
     "metadata": {},
     "output_type": "display_data"
    }
   ],
   "source": [
    "plt.matshow(probabs.reshape((622, 972)))\n",
    "#plt.matshow(probabs432.reshape((622, 972)))"
   ]
  },
  {
   "cell_type": "raw",
   "metadata": {},
   "source": [
    "probabs432 / probabs"
   ]
  },
  {
   "cell_type": "raw",
   "metadata": {},
   "source": [
    "probabs432.max() / probabs432.min()"
   ]
  },
  {
   "cell_type": "raw",
   "metadata": {},
   "source": [
    "probabs432.max() / probabs432.min()"
   ]
  },
  {
   "cell_type": "code",
   "execution_count": 5,
   "metadata": {},
   "outputs": [],
   "source": [
    "# We now build a matrix.\n",
    "presence_matrix = np.array([[cell in mask for cell in valid_cells] for mask in masks], dtype=np.int8)\n",
    "probab_weighted_presence_matrix = presence_matrix * probabs.reshape((-1, 1))"
   ]
  },
  {
   "cell_type": "code",
   "execution_count": 142,
   "metadata": {},
   "outputs": [],
   "source": [
    "import json\n",
    "with open(\"/tmp/data.json\", \"w\") as f:\n",
    "    s = json.dumps({\n",
    "        \"presence_matrix\": presence_matrix.tolist(),\n",
    "        \"weights\": probabs.tolist(),\n",
    "    }).replace(\" \", \"\")\n",
    "    f.write(s)\n",
    "    f.write(\"\\n\")"
   ]
  },
  {
   "cell_type": "code",
   "execution_count": 34,
   "metadata": {},
   "outputs": [
    {
     "data": {
      "text/plain": [
       "(604584, 64)"
      ]
     },
     "execution_count": 34,
     "metadata": {},
     "output_type": "execute_result"
    }
   ],
   "source": [
    "presence_matrix.shape"
   ]
  },
  {
   "cell_type": "code",
   "execution_count": 16,
   "metadata": {},
   "outputs": [],
   "source": [
    "cell_to_index = {cell: i for i, cell in enumerate(valid_cells)}\n",
    "\n",
    "def compute_probabilities(hits, misses):\n",
    "    # This is a simple Bayes update.\n",
    "    #   P(cell contains squid | observation) =\n",
    "    #       P(cell contains squid AND observation) / P(observation)\n",
    "    # Note that P(cell contains squid AND observation) is just P(cell contains squid)\n",
    "    # if the observation is compatible\n",
    "    # Start with a mask saying every possible board is admissible.\n",
    "    mask = np.array([True] * presence_matrix.shape[0], np.bool)\n",
    "    # Filter out all the boards that are incompatible with a hit we've seen so far.\n",
    "    for hit in hits:\n",
    "        mask &= presence_matrix[:, cell_to_index[hit]] == 1\n",
    "    # Filter out all the boards that are incompatible with a miss we've seen so far.\n",
    "    for miss in misses:\n",
    "        mask &= presence_matrix[:, cell_to_index[miss]] == 0\n",
    "    # Compute the total probability of every board layout compatible with our observation.\n",
    "    # This is simply P(observation).\n",
    "    observation_probability = probabs[mask].sum()\n",
    "    # Marginalize the distribution, and renormalize by the \n",
    "    return probab_weighted_presence_matrix[mask].sum(axis=0) / observation_probability\n",
    "\n",
    "def make_greedy_move(hits, misses):\n",
    "    weights = compute_probabilities(hits, misses)\n",
    "    for cell in hits + misses:\n",
    "        weights[cell_to_index[cell]] = -1\n",
    "    return valid_cells[np.argmax(weights)]"
   ]
  },
  {
   "cell_type": "code",
   "execution_count": 7,
   "metadata": {},
   "outputs": [
    {
     "data": {
      "text/plain": [
       "<matplotlib.image.AxesImage at 0x7f7425ffb2d0>"
      ]
     },
     "execution_count": 7,
     "metadata": {},
     "output_type": "execute_result"
    },
    {
     "data": {
      "image/png": "[encoded data removed]",
      "text/plain": [
       "<matplotlib.figure.Figure at 0x7f742af98310>"
      ]
     },
     "metadata": {},
     "output_type": "display_data"
    }
   ],
   "source": [
    "plt.matshow(probab_weighted_presence_matrix.sum(axis=0).reshape(8, 8))"
   ]
  },
  {
   "cell_type": "code",
   "execution_count": 20,
   "metadata": {},
   "outputs": [
    {
     "data": {
      "text/plain": [
       "<matplotlib.image.AxesImage at 0x7f74286fa150>"
      ]
     },
     "execution_count": 20,
     "metadata": {},
     "output_type": "execute_result"
    },
    {
     "data": {
      "image/png": "[encoded data removed]",
      "text/plain": [
       "<matplotlib.figure.Figure at 0x7f74288945d0>"
      ]
     },
     "metadata": {},
     "output_type": "display_data"
    }
   ],
   "source": [
    "plt.matshow(compute_probabilities(hits=[(3, 4)], misses=[(3, 3), (4, 4)]).reshape(8, 8))"
   ]
  },
  {
   "cell_type": "code",
   "execution_count": 33,
   "metadata": {},
   "outputs": [
    {
     "data": {
      "text/plain": [
       "<matplotlib.image.AxesImage at 0x7f74280b9b10>"
      ]
     },
     "execution_count": 33,
     "metadata": {},
     "output_type": "execute_result"
    },
    {
     "data": {
      "image/png": "[encoded data removed]",
      "text/plain": [
       "<matplotlib.figure.Figure at 0x7f742814bb50>"
      ]
     },
     "metadata": {},
     "output_type": "display_data"
    }
   ],
   "source": [
    "plt.matshow(compute_probabilities(\n",
    "    hits=[(3, 4), (6, 4)],\n",
    "    misses=[(3, 3), (4, 4), (1, 4), (4, 2)],\n",
    ").reshape(8, 8))"
   ]
  },
  {
   "cell_type": "code",
   "execution_count": 18,
   "metadata": {},
   "outputs": [
    {
     "data": {
      "text/plain": [
       "(2, 4)"
      ]
     },
     "execution_count": 18,
     "metadata": {},
     "output_type": "execute_result"
    }
   ],
   "source": [
    "make_greedy_move([(3, 4)], [(3, 3), (4, 4)])"
   ]
  },
  {
   "cell_type": "code",
   "execution_count": 40,
   "metadata": {},
   "outputs": [],
   "source": [
    "import random\n",
    "def make_board():\n",
    "    board = set()\n",
    "    def place(squid_len):\n",
    "        while True:\n",
    "            desc = random.choice(squid_origins)\n",
    "            for offset in range(squid_len):\n",
    "                spot = squid_spot(desc, offset)\n",
    "                if spot in board or spot not in valid_cells_set:\n",
    "                    break\n",
    "            else:\n",
    "                break\n",
    "        for offset in range(squid_len):\n",
    "            board.add(squid_spot(desc, offset))\n",
    "    place(2)\n",
    "    place(3)\n",
    "    place(4)\n",
    "    return board"
   ]
  },
  {
   "cell_type": "code",
   "execution_count": 44,
   "metadata": {},
   "outputs": [
    {
     "data": {
      "text/plain": [
       "{(1, 7), (2, 7), (3, 4), (4, 4), (4, 7), (5, 4), (5, 7), (6, 7), (7, 7)}"
      ]
     },
     "execution_count": 44,
     "metadata": {},
     "output_type": "execute_result"
    }
   ],
   "source": [
    "make_board()"
   ]
  },
  {
   "cell_type": "code",
   "execution_count": 50,
   "metadata": {},
   "outputs": [
    {
     "data": {
      "text/plain": [
       "{(1, 1), (1, 6), (2, 1), (2, 6), (3, 1), (3, 4), (3, 6), (4, 4), (4, 6)}"
      ]
     },
     "execution_count": 50,
     "metadata": {},
     "output_type": "execute_result"
    }
   ],
   "source": [
    "make_board()"
   ]
  },
  {
   "cell_type": "code",
   "execution_count": 136,
   "metadata": {},
   "outputs": [],
   "source": [
    "def play(board):\n",
    "    hits, misses = [], []\n",
    "    while len(hits) < 9:\n",
    "        m = make_greedy_move(hits, misses)\n",
    "        #print(\"Hitting:\", m)\n",
    "        if m in board:\n",
    "            hits.append(m)\n",
    "        else:\n",
    "            misses.append(m)\n",
    "    return len(hits) + len(misses)"
   ]
  },
  {
   "cell_type": "code",
   "execution_count": 54,
   "metadata": {},
   "outputs": [],
   "source": [
    "def show_board(b):\n",
    "    r = np.zeros((8, 8))\n",
    "    for xy in b:\n",
    "        r[xy] = 1\n",
    "    plt.matshow(r)"
   ]
  },
  {
   "cell_type": "code",
   "execution_count": 67,
   "metadata": {},
   "outputs": [
    {
     "data": {
      "image/png": "[encoded data removed]",
      "text/plain": [
       "<matplotlib.figure.Figure at 0x7f7427a21d10>"
      ]
     },
     "metadata": {},
     "output_type": "display_data"
    }
   ],
   "source": [
    "show_board(make_board())"
   ]
  },
  {
   "cell_type": "code",
   "execution_count": 106,
   "metadata": {},
   "outputs": [
    {
     "data": {
      "image/png": "[encoded data removed]",
      "text/plain": [
       "<matplotlib.figure.Figure at 0x7f7427a01f50>"
      ]
     },
     "metadata": {},
     "output_type": "display_data"
    }
   ],
   "source": [
    "b = make_board()\n",
    "show_board(b)\n",
    "hits, misses = [], []"
   ]
  },
  {
   "cell_type": "code",
   "execution_count": 135,
   "metadata": {},
   "outputs": [
    {
     "name": "stdout",
     "output_type": "stream",
     "text": [
      "Hitting: (0, 3) Shots so far: 27\n"
     ]
    },
    {
     "data": {
      "text/plain": [
       "<matplotlib.image.AxesImage at 0x7f7426164e90>"
      ]
     },
     "execution_count": 135,
     "metadata": {},
     "output_type": "execute_result"
    },
    {
     "data": {
      "image/png": "[encoded data removed]",
      "text/plain": [
       "<matplotlib.figure.Figure at 0x7f74263e3250>"
      ]
     },
     "metadata": {},
     "output_type": "display_data"
    }
   ],
   "source": [
    "m = make_greedy_move(hits, misses)\n",
    "print(\"Hitting:\", m, \"Shots so far:\", len(hits + misses))\n",
    "if m in b:\n",
    "    hits.append(m)\n",
    "else:\n",
    "    misses.append(m)\n",
    "r = np.zeros((8, 8))\n",
    "for xy in hits:\n",
    "    r[xy] = 1\n",
    "for xy in misses:\n",
    "    r[xy] = -1\n",
    "plt.matshow(r)"
   ]
  },
  {
   "cell_type": "code",
   "execution_count": 138,
   "metadata": {},
   "outputs": [
    {
     "name": "stdout",
     "output_type": "stream",
     "text": [
      "36\n",
      "Wins percentage:  0.0\n",
      "27\n",
      "Wins percentage:  0.0\n",
      "36\n",
      "Wins percentage:  0.0\n",
      "24\n",
      "Wins percentage:  0.0\n",
      "29\n",
      "Wins percentage:  0.0\n",
      "39\n",
      "Wins percentage:  0.0\n",
      "39\n",
      "Wins percentage:  0.0\n",
      "26\n",
      "Wins percentage:  0.0\n",
      "32\n",
      "Wins percentage:  0.0\n",
      "14\n",
      "Wins percentage:  0.1\n",
      "27\n",
      "Wins percentage:  0.09090909090909091\n",
      "22\n",
      "Wins percentage:  0.08333333333333333\n",
      "25\n",
      "Wins percentage:  0.07692307692307693\n",
      "40\n",
      "Wins percentage:  0.07142857142857142\n",
      "26\n",
      "Wins percentage:  0.06666666666666667\n",
      "23\n",
      "Wins percentage:  0.0625\n",
      "21\n",
      "Wins percentage:  0.058823529411764705\n",
      "25\n",
      "Wins percentage:  0.05555555555555555\n",
      "28\n",
      "Wins percentage:  0.05263157894736842\n",
      "18\n",
      "Wins percentage:  0.1\n",
      "35\n",
      "Wins percentage:  0.09523809523809523\n",
      "32\n",
      "Wins percentage:  0.09090909090909091\n",
      "28\n",
      "Wins percentage:  0.08695652173913043\n",
      "29\n",
      "Wins percentage:  0.08333333333333333\n",
      "35\n",
      "Wins percentage:  0.08\n",
      "39\n",
      "Wins percentage:  0.07692307692307693\n",
      "30\n",
      "Wins percentage:  0.07407407407407407\n",
      "21\n",
      "Wins percentage:  0.07142857142857142\n",
      "34\n",
      "Wins percentage:  0.06896551724137931\n",
      "24\n",
      "Wins percentage:  0.06666666666666667\n",
      "11\n",
      "Wins percentage:  0.0967741935483871\n",
      "21\n",
      "Wins percentage:  0.09375\n",
      "20\n",
      "Wins percentage:  0.12121212121212122\n",
      "38\n",
      "Wins percentage:  0.11764705882352941\n",
      "38\n",
      "Wins percentage:  0.11428571428571428\n",
      "22\n",
      "Wins percentage:  0.1111111111111111\n",
      "20\n",
      "Wins percentage:  0.13513513513513514\n",
      "19\n",
      "Wins percentage:  0.15789473684210525\n",
      "21\n",
      "Wins percentage:  0.15384615384615385\n",
      "28\n",
      "Wins percentage:  0.15\n",
      "19\n",
      "Wins percentage:  0.17073170731707318\n",
      "28\n",
      "Wins percentage:  0.16666666666666666\n",
      "27\n",
      "Wins percentage:  0.16279069767441862\n",
      "18\n",
      "Wins percentage:  0.18181818181818182\n",
      "27\n",
      "Wins percentage:  0.17777777777777778\n",
      "27\n",
      "Wins percentage:  0.17391304347826086\n",
      "30\n",
      "Wins percentage:  0.1702127659574468\n",
      "24\n",
      "Wins percentage:  0.16666666666666666\n",
      "22\n",
      "Wins percentage:  0.16326530612244897\n"
     ]
    },
    {
     "ename": "KeyboardInterrupt",
     "evalue": "",
     "output_type": "error",
     "traceback": [
      "\u001b[0;31m---------------------------------------------------------------------------\u001b[0m",
      "\u001b[0;31mKeyboardInterrupt\u001b[0m                         Traceback (most recent call last)",
      "\u001b[0;32m<ipython-input-138-f03f1de75f12>\u001b[0m in \u001b[0;36m<module>\u001b[0;34m()\u001b[0m\n\u001b[1;32m      1\u001b[0m \u001b[0mvalues\u001b[0m \u001b[0;34m=\u001b[0m \u001b[0;34m[\u001b[0m\u001b[0;34m]\u001b[0m\u001b[0;34m\u001b[0m\u001b[0m\n\u001b[1;32m      2\u001b[0m \u001b[0;32mwhile\u001b[0m \u001b[0mTrue\u001b[0m\u001b[0;34m:\u001b[0m\u001b[0;34m\u001b[0m\u001b[0m\n\u001b[0;32m----> 3\u001b[0;31m     \u001b[0mcount\u001b[0m \u001b[0;34m=\u001b[0m \u001b[0mplay\u001b[0m\u001b[0;34m(\u001b[0m\u001b[0mmake_board\u001b[0m\u001b[0;34m(\u001b[0m\u001b[0;34m)\u001b[0m\u001b[0;34m)\u001b[0m\u001b[0;34m\u001b[0m\u001b[0m\n\u001b[0m\u001b[1;32m      4\u001b[0m     \u001b[0mvalues\u001b[0m\u001b[0;34m.\u001b[0m\u001b[0mappend\u001b[0m\u001b[0;34m(\u001b[0m\u001b[0mcount\u001b[0m\u001b[0;34m)\u001b[0m\u001b[0;34m\u001b[0m\u001b[0m\n\u001b[1;32m      5\u001b[0m     \u001b[0;32mprint\u001b[0m\u001b[0;34m(\u001b[0m\u001b[0mcount\u001b[0m\u001b[0;34m)\u001b[0m\u001b[0;34m\u001b[0m\u001b[0m\n",
      "\u001b[0;32m<ipython-input-136-541752118720>\u001b[0m in \u001b[0;36mplay\u001b[0;34m(board)\u001b[0m\n\u001b[1;32m      2\u001b[0m     \u001b[0mhits\u001b[0m\u001b[0;34m,\u001b[0m \u001b[0mmisses\u001b[0m \u001b[0;34m=\u001b[0m \u001b[0;34m[\u001b[0m\u001b[0;34m]\u001b[0m\u001b[0;34m,\u001b[0m \u001b[0;34m[\u001b[0m\u001b[0;34m]\u001b[0m\u001b[0;34m\u001b[0m\u001b[0m\n\u001b[1;32m      3\u001b[0m     \u001b[0;32mwhile\u001b[0m \u001b[0mlen\u001b[0m\u001b[0;34m(\u001b[0m\u001b[0mhits\u001b[0m\u001b[0;34m)\u001b[0m \u001b[0;34m<\u001b[0m \u001b[0;36m9\u001b[0m\u001b[0;34m:\u001b[0m\u001b[0;34m\u001b[0m\u001b[0m\n\u001b[0;32m----> 4\u001b[0;31m         \u001b[0mm\u001b[0m \u001b[0;34m=\u001b[0m \u001b[0mmake_greedy_move\u001b[0m\u001b[0;34m(\u001b[0m\u001b[0mhits\u001b[0m\u001b[0;34m,\u001b[0m \u001b[0mmisses\u001b[0m\u001b[0;34m)\u001b[0m\u001b[0;34m\u001b[0m\u001b[0m\n\u001b[0m\u001b[1;32m      5\u001b[0m         \u001b[0;31m#print(\"Hitting:\", m)\u001b[0m\u001b[0;34m\u001b[0m\u001b[0;34m\u001b[0m\u001b[0m\n\u001b[1;32m      6\u001b[0m         \u001b[0;32mif\u001b[0m \u001b[0mm\u001b[0m \u001b[0;32min\u001b[0m \u001b[0mboard\u001b[0m\u001b[0;34m:\u001b[0m\u001b[0;34m\u001b[0m\u001b[0m\n",
      "\u001b[0;32m<ipython-input-16-502debffa9d4>\u001b[0m in \u001b[0;36mmake_greedy_move\u001b[0;34m(hits, misses)\u001b[0m\n\u001b[1;32m     22\u001b[0m \u001b[0;34m\u001b[0m\u001b[0m\n\u001b[1;32m     23\u001b[0m \u001b[0;32mdef\u001b[0m \u001b[0mmake_greedy_move\u001b[0m\u001b[0;34m(\u001b[0m\u001b[0mhits\u001b[0m\u001b[0;34m,\u001b[0m \u001b[0mmisses\u001b[0m\u001b[0;34m)\u001b[0m\u001b[0;34m:\u001b[0m\u001b[0;34m\u001b[0m\u001b[0m\n\u001b[0;32m---> 24\u001b[0;31m     \u001b[0mweights\u001b[0m \u001b[0;34m=\u001b[0m \u001b[0mcompute_probabilities\u001b[0m\u001b[0;34m(\u001b[0m\u001b[0mhits\u001b[0m\u001b[0;34m,\u001b[0m \u001b[0mmisses\u001b[0m\u001b[0;34m)\u001b[0m\u001b[0;34m\u001b[0m\u001b[0m\n\u001b[0m\u001b[1;32m     25\u001b[0m     \u001b[0;32mfor\u001b[0m \u001b[0mcell\u001b[0m \u001b[0;32min\u001b[0m \u001b[0mhits\u001b[0m \u001b[0;34m+\u001b[0m \u001b[0mmisses\u001b[0m\u001b[0;34m:\u001b[0m\u001b[0;34m\u001b[0m\u001b[0m\n\u001b[1;32m     26\u001b[0m         \u001b[0mweights\u001b[0m\u001b[0;34m[\u001b[0m\u001b[0mcell_to_index\u001b[0m\u001b[0;34m[\u001b[0m\u001b[0mcell\u001b[0m\u001b[0;34m]\u001b[0m\u001b[0;34m]\u001b[0m \u001b[0;34m=\u001b[0m \u001b[0;34m-\u001b[0m\u001b[0;36m1\u001b[0m\u001b[0;34m\u001b[0m\u001b[0m\n",
      "\u001b[0;32m<ipython-input-16-502debffa9d4>\u001b[0m in \u001b[0;36mcompute_probabilities\u001b[0;34m(hits, misses)\u001b[0m\n\u001b[1;32m      8\u001b[0m     \u001b[0;31m# if the observation is compatible\u001b[0m\u001b[0;34m\u001b[0m\u001b[0;34m\u001b[0m\u001b[0m\n\u001b[1;32m      9\u001b[0m     \u001b[0;31m# Start with a mask saying every possible board is admissible.\u001b[0m\u001b[0;34m\u001b[0m\u001b[0;34m\u001b[0m\u001b[0m\n\u001b[0;32m---> 10\u001b[0;31m     \u001b[0mmask\u001b[0m \u001b[0;34m=\u001b[0m \u001b[0mnp\u001b[0m\u001b[0;34m.\u001b[0m\u001b[0marray\u001b[0m\u001b[0;34m(\u001b[0m\u001b[0;34m[\u001b[0m\u001b[0mTrue\u001b[0m\u001b[0;34m]\u001b[0m \u001b[0;34m*\u001b[0m \u001b[0mpresence_matrix\u001b[0m\u001b[0;34m.\u001b[0m\u001b[0mshape\u001b[0m\u001b[0;34m[\u001b[0m\u001b[0;36m0\u001b[0m\u001b[0;34m]\u001b[0m\u001b[0;34m,\u001b[0m \u001b[0mnp\u001b[0m\u001b[0;34m.\u001b[0m\u001b[0mbool\u001b[0m\u001b[0;34m)\u001b[0m\u001b[0;34m\u001b[0m\u001b[0m\n\u001b[0m\u001b[1;32m     11\u001b[0m     \u001b[0;31m# Filter out all the boards that are incompatible with a hit we've seen so far.\u001b[0m\u001b[0;34m\u001b[0m\u001b[0;34m\u001b[0m\u001b[0m\n\u001b[1;32m     12\u001b[0m     \u001b[0;32mfor\u001b[0m \u001b[0mhit\u001b[0m \u001b[0;32min\u001b[0m \u001b[0mhits\u001b[0m\u001b[0;34m:\u001b[0m\u001b[0;34m\u001b[0m\u001b[0m\n",
      "\u001b[0;31mKeyboardInterrupt\u001b[0m: "
     ]
    }
   ],
   "source": [
    "values = []\n",
    "while True:\n",
    "    count = play(make_board())\n",
    "    values.append(count)\n",
    "    print(count)\n",
    "    print(\"Wins percentage: \", (np.array(values) <= 20).mean())"
   ]
  },
  {
   "cell_type": "code",
   "execution_count": null,
   "metadata": {},
   "outputs": [],
   "source": []
  }
 ],
 "metadata": {
  "kernelspec": {
   "display_name": "Python 2",
   "language": "python",
   "name": "python2"
  },
  "language_info": {
   "codemirror_mode": {
    "name": "ipython",
    "version": 2
   },
   "file_extension": ".py",
   "mimetype": "text/x-python",
   "name": "python",
   "nbconvert_exporter": "python",
   "pygments_lexer": "ipython2",
   "version": "2.7.16"
  }
 },
 "nbformat": 4,
 "nbformat_minor": 2
}
