{
 "cells": [
  {
   "cell_type": "markdown",
   "metadata": {},
   "source": [
    "# Example of Github's Jupyter notebook preview bug\n",
    "\n",
    "Github seems to have a bug in previewing $\\LaTeX$ in Jupyter notebooks.\n",
    "\n",
    "For example, take the code:\n",
    "\n",
    "```latex\n",
    "% example 1\n",
    "\\frac12 x\n",
    "```\n",
    "\n",
    "This should render as a quantity representing the value of one half of $x$, specifically as $\\frac{1}{2} x$.\n",
    "\n",
    "However, currently Github previews it as $\\frac{12}{x}$, namely the following code:\n",
    "\n",
    "```latex\n",
    "% wrong interpretation of example 1\n",
    "\\frac{12}{x}\n",
    "```\n",
    "\n",
    "This represents a completely different quantity!\n",
    "Here is the code of `example 1` pasted in literally, so Github will demonstrate this bug, if you're looking at this notebook through Github's preview: $\\frac12 x$.\n",
    "\n",
    "**tl;dr:** Fix rendering so the following renders as a true statement: $\\frac12x = \\frac{1}{2} x$."
   ]
  }
 ],
 "metadata": {
  "kernelspec": {
   "display_name": "Python 2",
   "language": "python",
   "name": "python2"
  },
  "language_info": {
   "codemirror_mode": {
    "name": "ipython",
    "version": 2
   },
   "file_extension": ".py",
   "mimetype": "text/x-python",
   "name": "python",
   "nbconvert_exporter": "python",
   "pygments_lexer": "ipython2",
   "version": "2.7.9"
  }
 },
 "nbformat": 4,
 "nbformat_minor": 2
}
