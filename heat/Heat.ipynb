{
 "cells": [
  {
   "cell_type": "markdown",
   "id": "207ed044",
   "metadata": {},
   "source": [
    "# Solving for temperature in a PCB trace\n",
    "\n",
    "Here we show how alternating invocations of a trivial Poisson solver suffice to do a primitive \"multi-physics\" simulation of current and temperature."
   ]
  },
  {
   "cell_type": "code",
   "execution_count": 1,
   "id": "6564cb6a",
   "metadata": {},
   "outputs": [],
   "source": [
    "import numpy as np\n",
    "import matplotlib.pyplot as plt"
   ]
  },
  {
   "cell_type": "markdown",
   "id": "220fbbc4",
   "metadata": {},
   "source": [
    "Recall that the inhomogeneous heat equation has the form:\n",
    "$$ \\partial_t u = k \\nabla^2 u + q $$\n",
    "for some temperature distribution $u : \\mathbb{R}^3 \\to \\mathbb{R}$, thermal conductivity $k : \\mathbb{R^3} \\to \\mathbb{R}$, and some source term $q: \\mathbb{R}^3 \\to \\mathbb{R}$.\n",
    "To find the steady-state solution, we set $\\partial_u = 0$, getting $\\nabla^2 u = -q / k$, which is a Poisson equation.\n",
    "Therefore, we write the world's simplest Poisson solver."
   ]
  },
  {
   "cell_type": "code",
   "execution_count": 2,
   "id": "824ff1ee",
   "metadata": {},
   "outputs": [],
   "source": [
    "interior_2d = slice(1, -1), slice(1, -1)\n",
    "interior_3d = slice(1, -1), slice(1, -1), slice(1, -1)\n",
    "\n",
    "def laplacian_2d(a):\n",
    "    b = np.zeros_like(a)\n",
    "    b[interior_2d] = (\n",
    "        a[:-2, 1:-1] + a[2:, 1:-1]\n",
    "        + a[1:-1, :-2] + a[1:-1, 2:]\n",
    "        - 4*a[interior_2d]\n",
    "    ) / 4\n",
    "    return b\n",
    "\n",
    "def laplacian_3d(a):\n",
    "    b = np.zeros_like(a)\n",
    "    b[interior_3d] = (\n",
    "        a[:-2, 1:-1, 1:-1] + a[2:, 1:-1, 1:-1]\n",
    "        + a[1:-1, :-2, 1:-1] + a[1:-1, 2:, 1:-1]\n",
    "        + a[1:-1, 1:-1, :-2] + a[1:-1, 1:-1, 2:]\n",
    "        - 6*a[interior_3d]\n",
    "    ) / 6\n",
    "    return b\n",
    "\n",
    "def poisson_solve(initial, f, bc_mask, max_iters=1000, tol=1e-5):\n",
    "    \"\"\"\n",
    "    poisson_solve(initial, f, max_iters=10) -> u\n",
    "    Returns `u` such that ∇²u = f in the interior, and `u` agrees\n",
    "    with `initial` wherever bc_mask is one (Dirichlet boundary conditions).\n",
    "    \"\"\"\n",
    "    u, f = np.asarray(initial), np.asarray(f)\n",
    "    assert u.shape == f.shape\n",
    "    for iteration in range(max_iters):\n",
    "        # Take a step. (no successive over-relaxation here, just a trivial update)\n",
    "        if len(u.shape) == 2:\n",
    "            error = np.where(bc_mask[interior_2d], 0, (laplacian_2d(u)[interior_2d] - f[interior_2d]))\n",
    "            u[interior_2d] += error\n",
    "        else:\n",
    "            error = np.where(bc_mask[interior_3d], 0, (laplacian_3d(u)[interior_3d] - f[interior_3d]))\n",
    "            u[interior_3d] += error\n",
    "        # Check for convergence.\n",
    "        error = np.max(np.abs(error))\n",
    "        if error <= tol:\n",
    "            print(f\"Converged in {iteration} iterations.\")\n",
    "            return u\n",
    "    print(\"Failed to converge -- remaining max error:\", error)\n",
    "    return u"
   ]
  },
  {
   "cell_type": "markdown",
   "id": "3c3d4d31",
   "metadata": {},
   "source": [
    "Using this Poisson solver, let's now find the steady-state temperature distribution in a 2D plate whose four edges are held at a temperature of 0, and which is being heated throughout.\n",
    "This corresponds to setting $q = 1$ everywhere inside of the plate, and $k = 1$ everywhere (as the plate is homogenous).\n",
    "Therefore, we seek a solution to $\\nabla^2 u = -q/k = -1$."
   ]
  },
  {
   "cell_type": "code",
   "execution_count": 3,
   "id": "543b45b7",
   "metadata": {},
   "outputs": [
    {
     "name": "stdout",
     "output_type": "stream",
     "text": [
      "Converged in 9644 iterations.\n"
     ]
    },
    {
     "data": {
      "text/plain": [
       "<matplotlib.image.AxesImage at 0x76966e2e03d0>"
      ]
     },
     "execution_count": 3,
     "metadata": {},
     "output_type": "execute_result"
    },
    {
     "data": {
      "image/png": "[encoded data removed]",
      "text/plain": [
       "<Figure size 288x288 with 1 Axes>"
      ]
     },
     "metadata": {
      "needs_background": "light"
     },
     "output_type": "display_data"
    }
   ],
   "source": [
    "# Let's now find the steady-state temperature in a plate whose edges\n",
    "# are held at 0, and which is being heated uniformly throughout.\n",
    "r = poisson_solve(\n",
    "    initial=np.zeros((64, 64)),\n",
    "    f=-np.ones((64, 64)),\n",
    "    bc_mask=np.pad(np.zeros((62, 62)), 1, constant_values=1),\n",
    "    max_iters=10_000,\n",
    "    tol=1e-5,\n",
    ")\n",
    "plt.matshow(r)"
   ]
  },
  {
   "cell_type": "markdown",
   "id": "7e1a680e",
   "metadata": {},
   "source": [
    "Sure enough, the above looks like a reasonable solution — the plate is warm in the middle, and gets cooler towards the edges.\n",
    "\n",
    "Now let's find the steady-state current distribution of some setup, by solving for the voltage distribution.\n",
    "We know the following:\n",
    "* The E-field is given by $\\vec{E} = \\nabla V$ by definition.\n",
    "* The current density $\\vec{J} = \\sigma \\vec{E}$, per Ohm's law.\n",
    "* Kirchoff's current law tells us $\\nabla \\cdot \\vec{J} = 0$, but if we have external current sources or sinks we get $\\nabla \\cdot \\vec{J} = s$, for some source term $s$.\n",
    "\n",
    "Putting this all together for some spatially varying conductivity $\\sigma : \\mathbb{R}^3 \\to \\mathbb{R}$, we get:\n",
    "\\begin{align*}\n",
    "    \\nabla \\cdot \\vec{J} &= s\\\\\n",
    "    \\nabla \\cdot (\\sigma \\vec{E}) &= \\\\\n",
    "    \\nabla \\cdot (\\sigma \\nabla V) &= \\\\\n",
    "    \\sigma \\nabla^2 V + (\\nabla \\sigma) \\cdot (\\nabla V) &= \\\\\n",
    "    \\nabla^2 V &= \\frac{s - (\\nabla \\sigma) \\cdot (\\nabla V)}{\\sigma}\n",
    "\\end{align*}\n",
    "\n",
    "In the speical case where $\\sigma$ isn't spatially varying, the $(\\nabla \\sigma) \\cdot (\\nabla V)$ term vanishes, and this becomes another Poisson equation!\n",
    "Unfortunately, we care about the case where $\\sigma$ varies, as that's the case that lets us actually model a trace (a region of higher conductivity),\n",
    "\n",
    "Note that this equation ends up somewhat ill-conditioned for resistive materials, as then $\\sigma$ ends up nearly equal to zero, and therefore the RHS blows up.\n",
    "This makes sense intuitively — even a tiny source current $s$ results in absolutely massive voltages in a resistive material.\n",
    "If you could continuously dump 1 mA into the middle of block of rubber, things would get very exciting very quickly!\n",
    "Therefore, we will have to be very careful about how we set boundary conditions when solving for voltages.\n",
    "\n",
    "Let's now solve for the current in a little trace shape."
   ]
  },
  {
   "cell_type": "code",
   "execution_count": 4,
   "id": "9f62fb10",
   "metadata": {},
   "outputs": [
    {
     "data": {
      "text/plain": [
       "<matplotlib.image.AxesImage at 0x76966c1d6680>"
      ]
     },
     "execution_count": 4,
     "metadata": {},
     "output_type": "execute_result"
    },
    {
     "data": {
      "image/png": "[encoded data removed]",
      "text/plain": [
       "<Figure size 288x288 with 1 Axes>"
      ]
     },
     "metadata": {
      "needs_background": "light"
     },
     "output_type": "display_data"
    }
   ],
   "source": [
    "# Here's what our trace looks like.\n",
    "trace_mask = np.zeros((100, 100))\n",
    "trace_mask[10:30, 10:90] = 1\n",
    "trace_mask[70:90, 10:90] = 1\n",
    "trace_mask[10:90, 70:90] = 1\n",
    "trace_mask[10:90, 50:60] = 1\n",
    "plt.matshow(trace_mask)"
   ]
  },
  {
   "cell_type": "code",
   "execution_count": 5,
   "id": "ac5d4972",
   "metadata": {},
   "outputs": [
    {
     "data": {
      "text/plain": [
       "<matplotlib.image.AxesImage at 0x76966c045540>"
      ]
     },
     "execution_count": 5,
     "metadata": {},
     "output_type": "execute_result"
    },
    {
     "data": {
      "image/png": "[encoded data removed]",
      "text/plain": [
       "<Figure size 288x288 with 1 Axes>"
      ]
     },
     "metadata": {
      "needs_background": "light"
     },
     "output_type": "display_data"
    }
   ],
   "source": [
    "# Let's define the current source and sink term, adding current at the top left, and removing it at the bottom left.\n",
    "source = np.zeros((100, 100))\n",
    "source[10:30, 10] = 1\n",
    "source[70:90, 10] = -1\n",
    "plt.matshow(source)"
   ]
  },
  {
   "cell_type": "code",
   "execution_count": 25,
   "id": "e21a7710",
   "metadata": {},
   "outputs": [
    {
     "name": "stdout",
     "output_type": "stream",
     "text": [
      "Failed to converge -- remaining max error: 2.540868355843398e+78\n"
     ]
    }
   ],
   "source": [
    "# Let's now solve for voltage everywhere.\n",
    "def grad_2d(a):\n",
    "    grad = np.zeros((2, *a.shape))\n",
    "    grad[0][interior_2d] = (a[2:, 1:-1] - a[:-2, 1:-1]) / 2\n",
    "    grad[1][interior_2d] = (a[1:-1, 2:] - a[1:-1, :-2]) / 2\n",
    "    return grad\n",
    "\n",
    "def grad_3d(a):\n",
    "    grad = np.zeros((3, *a.shape))\n",
    "    grad[0][interior_3d] = (a[2:, 1:-1, 1:-1] - a[:-2, 1:-1, 1:-1]) / 2\n",
    "    grad[1][interior_3d] = (a[1:-1, 2:, 1:-1] - a[1:-1, :-2, 1:-1]) / 2\n",
    "    grad[2][interior_3d] = (a[1:-1, 1:-1, 2:] - a[1:-1, 1:-1, :-2]) / 2\n",
    "    return grad\n",
    "\n",
    "def divergence_2d(a):\n",
    "    assert a.shape[0] == 2\n",
    "    x_term = a[0][2:, 1:-1] - a[0][:-2, 1:-1]\n",
    "    y_term = a[1][1:-1, 2:] - a[1][1:-1, :-2]\n",
    "    return x_term + y_term\n",
    "\n",
    "def divergence_3d(a):\n",
    "    assert a.shape[0] == 3\n",
    "    x_term = a[0][2:, 1:-1, 1:-1] - a[0][:-2, 1:-1, 1:-1]\n",
    "    y_term = a[1][1:-1, 2:, 1:-1] - a[1][1:-1, :-2, 1:-1]\n",
    "    z_term = a[2][1:-1, 1:-1, 2:] - a[2][1:-1, 1:-1, :-2]\n",
    "    return x_term + y_term + z_term\n",
    "\n",
    "def dot_product(a, b):\n",
    "    return np.sum(a * b, axis=0)\n",
    "\n",
    "def voltage_solve(current_sources, sigma, step_size=0.1, max_iters=1000, tol=1e-5):\n",
    "    assert current_sources.shape == sigma.shape\n",
    "    voltage = np.zeros_like(sigma)\n",
    "    grad_sigma = grad_2d(sigma)\n",
    "    for iteration in range(max_iters):\n",
    "        # Take a step. (no successive over-relaxation here, just a trivial update)\n",
    "        if len(voltage.shape) == 2:\n",
    "            rhs = (current_sources - dot_product(grad_sigma, grad_2d(voltage))) / sigma\n",
    "            error = laplacian_2d(voltage)[interior_2d] - rhs[interior_2d]\n",
    "            voltage[interior_2d] += step_size * error\n",
    "        else:\n",
    "            rhs = (current_sources - dot_product(grad_sigma, grad_3d(voltage))) / sigma\n",
    "            error = laplacian_3d(voltage)[interior_3d] - rhs[interior_3d]\n",
    "            voltage[interior_3d] += step_size * error\n",
    "        # Check for convergence.\n",
    "        error = np.max(np.abs(error))\n",
    "        if error <= tol:\n",
    "            print(f\"Converged in {iteration} iterations.\")\n",
    "            return voltage\n",
    "    print(\"Failed to converge -- remaining max error:\", error)\n",
    "    return voltage\n",
    "\n",
    "sigma = np.where(trace_mask, 1, 0.01)\n",
    "voltage = voltage_solve(current_sources=source, sigma=sigma, max_iters=10_000, tol=1e-3)"
   ]
  },
  {
   "cell_type": "code",
   "execution_count": 47,
   "id": "a48b5ef0",
   "metadata": {},
   "outputs": [],
   "source": [
    "def naive_voltage_solve(current_sources, sigma, step_size=0.2, max_iters=1000, tol=1e-3):\n",
    "    assert current_sources.shape == sigma.shape\n",
    "    voltage = np.zeros_like(sigma)\n",
    "    for iteration in range(max_iters):\n",
    "        current = sigma * grad_2d(voltage)\n",
    "        divergence_error = current_sources.copy()\n",
    "        if len(voltage.shape) == 2:\n",
    "            divergence_error[interior_2d] -= divergence_2d(current)\n",
    "        else:\n",
    "            divergence_error[interior_3d] -= divergence_3d(current)\n",
    "        voltage_error = laplacian_2d(voltage) - divergence_error\n",
    "        voltage += step_size * voltage_error\n",
    "        # Check for convergence.\n",
    "        error = np.max(np.abs(divergence_error))\n",
    "        if error <= tol:\n",
    "            print(f\"Converged in {iteration} iterations.\")\n",
    "            return voltage\n",
    "    print(\"Failed to converge -- remaining max error:\", error)\n",
    "    return voltage"
   ]
  },
  {
   "cell_type": "code",
   "execution_count": 48,
   "id": "e96d80ea",
   "metadata": {},
   "outputs": [
    {
     "name": "stdout",
     "output_type": "stream",
     "text": [
      "Failed to converge -- remaining max error: 0.6560956780922549\n"
     ]
    },
    {
     "data": {
      "text/plain": [
       "<matplotlib.image.AxesImage at 0x76966a2a8700>"
      ]
     },
     "execution_count": 48,
     "metadata": {},
     "output_type": "execute_result"
    },
    {
     "data": {
      "image/png": "[encoded data removed]",
      "text/plain": [
       "<Figure size 288x288 with 1 Axes>"
      ]
     },
     "metadata": {
      "needs_background": "light"
     },
     "output_type": "display_data"
    }
   ],
   "source": [
    "sigma = np.where(trace_mask, 1, 0.1)\n",
    "voltage = naive_voltage_solve(current_sources=source, sigma=sigma, max_iters=100_000, tol=1e-3)\n",
    "plt.matshow(voltage)"
   ]
  },
  {
   "cell_type": "code",
   "execution_count": 49,
   "id": "608bd204",
   "metadata": {},
   "outputs": [
    {
     "data": {
      "text/plain": [
       "<matplotlib.image.AxesImage at 0x76966a495b10>"
      ]
     },
     "execution_count": 49,
     "metadata": {},
     "output_type": "execute_result"
    },
    {
     "data": {
      "image/png": "[encoded data removed]",
      "text/plain": [
       "<Figure size 288x288 with 1 Axes>"
      ]
     },
     "metadata": {
      "needs_background": "light"
     },
     "output_type": "display_data"
    },
    {
     "data": {
      "image/png": "[encoded data removed]",
      "text/plain": [
       "<Figure size 288x288 with 1 Axes>"
      ]
     },
     "metadata": {
      "needs_background": "light"
     },
     "output_type": "display_data"
    },
    {
     "data": {
      "image/png": "[encoded data removed]",
      "text/plain": [
       "<Figure size 288x288 with 1 Axes>"
      ]
     },
     "metadata": {
      "needs_background": "light"
     },
     "output_type": "display_data"
    }
   ],
   "source": [
    "current = sigma * grad_2d(voltage)\n",
    "plt.matshow(current[0])\n",
    "plt.matshow(current[1])\n",
    "plt.matshow(divergence_2d(current))"
   ]
  },
  {
   "cell_type": "code",
   "execution_count": null,
   "id": "8407a35f",
   "metadata": {},
   "outputs": [],
   "source": []
  }
 ],
 "metadata": {
  "kernelspec": {
   "display_name": "Python 3 (ipykernel)",
   "language": "python",
   "name": "python3"
  },
  "language_info": {
   "codemirror_mode": {
    "name": "ipython",
    "version": 3
   },
   "file_extension": ".py",
   "mimetype": "text/x-python",
   "name": "python",
   "nbconvert_exporter": "python",
   "pygments_lexer": "ipython3",
   "version": "3.10.12"
  }
 },
 "nbformat": 4,
 "nbformat_minor": 5
}
