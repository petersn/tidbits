{
 "cells": [
  {
   "cell_type": "markdown",
   "metadata": {},
   "source": [
    "# Multiple Importance Sampling\n",
    "\n",
    "Working off of [this resource](https://graphics.stanford.edu/courses/cs348b-03/papers/veach-chapter9.pdf).\n",
    "\n",
    "Let our test function $f_{a, b}$ be:\n",
    "\n",
    "$$ f_{a, b}(x) = a e^{-(2 + x)^2} + b e^{-(2 - x)^2} $$\n",
    "\n",
    "For some given fixed $a$ and $b$ our goal will be to numerically evaluate:\n",
    "\n",
    "$$ \\int_{\\mathbb{R}} f_{a, b}(x) \\, \\mathrm{d}x = (a + b) \\sqrt{\\pi} $$\n",
    "\n",
    "We will do this first via [Importance Sampling](https://en.wikipedia.org/wiki/Importance_sampling) with three candidate distributions: Normal centered around -2, normal centered around +2, and normal centered around 0.\n",
    "\n",
    "Finally, we will use the balance heuristic with Multiple Importance Sampling, and show that this yields better performance across a range of choices of $a$ and $b$."
   ]
  },
  {
   "cell_type": "code",
   "execution_count": 1,
   "metadata": {},
   "outputs": [],
   "source": [
    "%matplotlib inline\n",
    "import matplotlib.pyplot as plt\n",
    "import numpy as np\n",
    "import random, math, collections"
   ]
  },
  {
   "cell_type": "code",
   "execution_count": 2,
   "metadata": {},
   "outputs": [],
   "source": [
    "def f(a, b):\n",
    "    # Curry the third argument.\n",
    "    return lambda x: a * math.exp(-(2 + x)**2) + b * math.exp(-(2 - x)**2)\n",
    "\n",
    "def plot(f, low, high, num=100):\n",
    "    xs = np.linspace(low, high, num=num)\n",
    "    plt.plot(xs, map(f, xs))"
   ]
  },
  {
   "cell_type": "code",
   "execution_count": 3,
   "metadata": {},
   "outputs": [
    {
     "data": {
      "image/png": "[encoded data removed]",
      "text/plain": [
       "<matplotlib.figure.Figure at 0x7f02c17b8ed0>"
      ]
     },
     "metadata": {},
     "output_type": "display_data"
    }
   ],
   "source": [
    "plot(f(1, 1), -5, 5)"
   ]
  },
  {
   "cell_type": "code",
   "execution_count": 4,
   "metadata": {},
   "outputs": [],
   "source": [
    "def importance_sample(f, generate, pdf, N):\n",
    "    total = 0.0\n",
    "    for _ in xrange(N):\n",
    "        x = generate()\n",
    "        total += f(x) / pdf(x)\n",
    "    return total / N"
   ]
  },
  {
   "cell_type": "code",
   "execution_count": 5,
   "metadata": {},
   "outputs": [
    {
     "name": "stdout",
     "output_type": "stream",
     "text": [
      "3.54703578398\n",
      "Target result: 3.54490770181\n"
     ]
    }
   ],
   "source": [
    "def generate_normal(mean, variance):\n",
    "    return lambda: random.normalvariate(mean, variance**0.5)\n",
    "\n",
    "def pdf_normal(mean, variance):\n",
    "    return lambda x: math.exp(-(x - mean)**2 / (2 * variance)) / math.sqrt(2 * math.pi * variance)\n",
    "\n",
    "result = importance_sample(f(1, 1), generate_normal(1, 3), pdf_normal(1, 3), 10000)\n",
    "print result\n",
    "print \"Target result:\", 2 * math.sqrt(math.pi)"
   ]
  },
  {
   "cell_type": "code",
   "execution_count": 6,
   "metadata": {},
   "outputs": [],
   "source": [
    "def estimator_variance(true_value, estimator, N):\n",
    "    errors = np.array([estimator() for _ in xrange(N)]) - true_value\n",
    "    # No Bessel correction needed to be unbiased, as the true value is known.\n",
    "    return np.mean(errors**2)"
   ]
  },
  {
   "cell_type": "code",
   "execution_count": 7,
   "metadata": {},
   "outputs": [
    {
     "name": "stdout",
     "output_type": "stream",
     "text": [
      "Using importance sampling distribution with mean = 0 and variance = 3 yields variance: 0.110336785407\n",
      "Using importance sampling distribution with mean = 0 and variance = 5 yields variance: 0.097431245552\n",
      "Using importance sampling distribution with mean = 1 and variance = 3 yields variance: 0.234892908172\n",
      "Using importance sampling distribution with mean = 1 and variance = 5 yields variance: 0.143700052756\n"
     ]
    }
   ],
   "source": [
    "parameter_range = [(0, 3), (0, 5), (1, 3), (1, 5)]\n",
    "for parameters in parameter_range:\n",
    "    estimator_var = estimator_variance(\n",
    "        true_value = 2 * math.sqrt(math.pi),\n",
    "        estimator = lambda: importance_sample(\n",
    "            f(1, 1),\n",
    "            generate_normal(*parameters),\n",
    "            pdf_normal(*parameters),\n",
    "            100,\n",
    "        ),\n",
    "        N = 10000,\n",
    "    )\n",
    "    print \"Using importance sampling distribution with mean = %s and variance = %s yields variance: %s\" % (\n",
    "        parameters[0],\n",
    "        parameters[1],\n",
    "        estimator_var,\n",
    "    )"
   ]
  },
  {
   "cell_type": "markdown",
   "metadata": {},
   "source": [
    "## Now let's use MIS"
   ]
  },
  {
   "cell_type": "code",
   "execution_count": 8,
   "metadata": {},
   "outputs": [],
   "source": [
    "def balance_heuristic_mis(f, samples_each, generators, pdfs):\n",
    "    N = sum(samples_each)\n",
    "    total = 0.0\n",
    "    for samples, generator, pdf in zip(samples_each, generators, pdfs):\n",
    "        for _ in xrange(samples):\n",
    "            x = generator()\n",
    "            p = sum((s / float(N)) * sub_pdf(x) for s, sub_pdf in zip(samples_each, pdfs))\n",
    "            total += f(x) / p\n",
    "    return total / N\n",
    "        "
   ]
  },
  {
   "cell_type": "code",
   "execution_count": 9,
   "metadata": {},
   "outputs": [
    {
     "name": "stdout",
     "output_type": "stream",
     "text": [
      "0.0903493934695\n"
     ]
    }
   ],
   "source": [
    "test = lambda: balance_heuristic_mis(\n",
    "    f(1, 1),\n",
    "    [50, 50],\n",
    "    [\n",
    "        generate_normal(1, 3),\n",
    "        generate_normal(-1, 3),\n",
    "    ],\n",
    "    [\n",
    "        pdf_normal(1, 3),\n",
    "        pdf_normal(-1, 3),\n",
    "    ],\n",
    ")\n",
    "print estimator_variance(\n",
    "    true_value = 2 * math.sqrt(math.pi),\n",
    "    estimator = test,\n",
    "    N = 10000,\n",
    ")"
   ]
  },
  {
   "cell_type": "markdown",
   "metadata": {},
   "source": [
    "# Using MIS for rendering\n",
    "\n",
    "We will now define a simple rendering pipeline, and attempt to reproduce the diagram of figure 9.2 from the linked notes."
   ]
  },
  {
   "cell_type": "code",
   "execution_count": 10,
   "metadata": {},
   "outputs": [],
   "source": [
    "def normalized(x):\n",
    "    return np.array(x, dtype=np.float64) / np.linalg.norm(x)\n",
    "\n",
    "def scatter(roughness, v):\n",
    "    if roughness is None:\n",
    "        return None\n",
    "    displace = normalized(np.random.randn(3))\n",
    "    return normalized(displace * roughness + normalized(v))\n",
    "\n",
    "class Ray:\n",
    "    def __init__(self, origin, direction):\n",
    "        self.origin = np.array(origin, dtype=np.float64)\n",
    "        self.direction = normalized(direction)\n",
    "\n",
    "Hit = collections.namedtuple(\"Hit\", [\"distance\", \"point\", \"reflection\", \"energy\"])\n",
    "no_hit = Hit(float(\"inf\"), None, None, 0.0)\n",
    "\n",
    "class Sphere:\n",
    "    def __init__(self, center, radius, emission, roughness):\n",
    "        self.center = center\n",
    "        self.radius = radius\n",
    "        self.emission = emission\n",
    "        self.roughness = roughness\n",
    "\n",
    "    def cast_ray(self, ray):\n",
    "        offset = self.center - ray.origin\n",
    "        base_d = ray.direction.dot(offset)\n",
    "        discriminant = base_d**2 - np.linalg.norm(offset)**2 + self.radius**2\n",
    "        if discriminant < 0:\n",
    "            return no_hit\n",
    "        root = math.sqrt(discriminant)\n",
    "        if base_d - root < 0:\n",
    "            return no_hit\n",
    "        hit_point = ray.origin + ray.direction * (base_d - root - 1e-2)\n",
    "        normal = normalized(hit_point - self.center)\n",
    "        reflection = ray.direction - (2 * normal.dot(ray.direction)) * normal\n",
    "        reflection = scatter(self.roughness, reflection)\n",
    "        return Hit(base_d - root, hit_point, reflection, self.emission)\n",
    "\n",
    "class Plane:\n",
    "    def __init__(self, normal, point_on_plane, emission, roughness):\n",
    "        self.normal = normalized(normal)\n",
    "        self.height = np.dot(normal, point_on_plane)\n",
    "        self.emission = emission\n",
    "        self.roughness = roughness\n",
    "\n",
    "    def cast_ray(self, ray):\n",
    "        origin_height = self.normal.dot(ray.origin) - self.height\n",
    "        if origin_height < 0:\n",
    "            return no_hit\n",
    "        rate = -self.normal.dot(ray.direction)\n",
    "        if rate <= 0:\n",
    "            return no_hit\n",
    "        approach_distance = origin_height / rate\n",
    "        hit_point = ray.origin + ray.direction * approach_distance\n",
    "        reflection = ray.direction - (2 * self.normal.dot(ray.direction)) * self.normal\n",
    "        reflection = scatter(self.roughness, reflection)\n",
    "        return Hit(approach_distance, hit_point, reflection, self.emission)\n",
    "\n",
    "class PlaneSegment(Plane):\n",
    "    def __init__(self, normal, point_on_plane, x_bounds, y_bounds, emission, roughness):\n",
    "        Plane.__init__(self, normal, point_on_plane, emission, roughness)\n",
    "        self.x_bounds = x_bounds\n",
    "        self.y_bounds = y_bounds\n",
    "\n",
    "    def cast_ray(self, ray):\n",
    "        hit = Plane.cast_ray(self, ray)\n",
    "        if hit.point is not None and \\\n",
    "                self.x_bounds[0] < hit.point[0] < self.x_bounds[1] and \\\n",
    "                self.y_bounds[0] < hit.point[1] < self.y_bounds[1]:\n",
    "            return hit\n",
    "        return no_hit\n",
    "\n",
    "class LightSamplingPlaneSegment(PlaneSegment):\n",
    "    def __init__(self, normal, point_on_plane, x_bounds, y_bounds, emission, roughness, lights):\n",
    "        PlaneSegment.__init__(self, normal, point_on_plane, x_bounds, y_bounds, emission, roughness)\n",
    "        assert all(isinstance(light, Sphere) for light in lights)\n",
    "        self.lights = lights\n",
    "\n",
    "    def cast_ray(self, ray):\n",
    "        # Pick a random light.\n",
    "        light = random.sample(self.lights)\n",
    "        # Pick a random ray towards on the light.\n",
    "        pass\n",
    "\n",
    "class Scene:\n",
    "    def __init__(self, objects):\n",
    "        self.objects = objects\n",
    "\n",
    "    def cast_ray(self, ray):\n",
    "        best_hit = no_hit\n",
    "        for obj in self.objects:\n",
    "            new_hit = obj.cast_ray(ray)\n",
    "            if new_hit.distance < best_hit.distance:\n",
    "                best_hit = new_hit\n",
    "        return best_hit\n",
    "\n",
    "def path_trace(scene, ray, bounces=1):\n",
    "    energy = 0.0\n",
    "    hit = scene.cast_ray(ray)\n",
    "    if hit.point is not None:\n",
    "        energy += hit.energy #/ hit.distance**2.0\n",
    "        if bounces > 0 and hit.reflection is not None:\n",
    "            # Scatter the direction.\n",
    "            #reflection = scatter(hit.roughness, hit.reflection)\n",
    "            # We back the hit off of the surface a tiny bit so we don't hit it again on the way out.\n",
    "            origin = hit.point + hit.reflection * 0.001\n",
    "            reflection_ray = Ray(origin, hit.reflection)\n",
    "            energy += path_trace(scene, reflection_ray, bounces=bounces-1)\n",
    "    return energy\n",
    "\n",
    "def mcpt(scene, size, samples):\n",
    "    width, height = size\n",
    "    result = np.zeros([width, height])\n",
    "    for _ in xrange(samples):\n",
    "        for y in xrange(height):\n",
    "            for x in xrange(width):\n",
    "                camera_direction = [1, x / float(width) - 0.5, 0.5 - y / float(height)]\n",
    "                camera_ray = Ray([0, 0, 0], camera_direction)\n",
    "                # Because it is standard to have matrices to index by (row, column), we swap y and x here:\n",
    "                result[y, x] += path_trace(scene, camera_ray)\n",
    "    return result / samples"
   ]
  },
  {
   "cell_type": "code",
   "execution_count": 11,
   "metadata": {},
   "outputs": [
    {
     "data": {
      "image/png": "[encoded data removed]",
      "text/plain": [
       "<matplotlib.figure.Figure at 0x7f02bf41fa50>"
      ]
     },
     "metadata": {},
     "output_type": "display_data"
    }
   ],
   "source": [
    "scene = Scene([\n",
    "    #Sphere([-2, 0, 0], 2, 1.0, 0.0),\n",
    "    #Sphere([3, 0, 0], 0.5, 0.1, 1.0),\n",
    "    #Sphere([3, 1, 0.5], 1.5, 0.1, 1.0),\n",
    "    #Plane([0, 0, 1], [0, 0, -1], 0.1, 1.0),\n",
    "    #Sphere([5.5, -1.5, 2], 0.5 * (1/3.0), (3/1.0)**2, None),\n",
    "    #Sphere([5.5, 0, 2], 0.5 * (2/3.0), (3/2.0)**2, None),\n",
    "    #Sphere([5.5, 1.5, 2], 0.5, 1.0, None),\n",
    "    Sphere([5.5, -1.5, 2], 0.5 * (1/3.0), 5, None),\n",
    "    Sphere([5.5, 0, 2], 0.5 * (2/3.0), 4, None),\n",
    "    Sphere([5.5, 1.5, 2], 0.5, 3, None),\n",
    "    PlaneSegment([-0.21, 0, 1], [2.5, 0, -0.75], (2, 3), (-1.5, 1.5), 0.5, 0.1),\n",
    "    PlaneSegment([-0.38, 0, 1], [3.5, 0, -0.37], (3, 4), (-1.5, 1.5), 1.0, 0.05),\n",
    "    PlaneSegment([-0.6, 0, 1], [4.5, 0, +0.4], (4, 5), (-1.5, 1.5), 1.5, 0.0),\n",
    "])\n",
    "image = mcpt(scene, (200, 200), 10)\n",
    "_ = plt.matshow(image)"
   ]
  }
 ],
 "metadata": {
  "kernelspec": {
   "display_name": "Python 2",
   "language": "python",
   "name": "python2"
  },
  "language_info": {
   "codemirror_mode": {
    "name": "ipython",
    "version": 2
   },
   "file_extension": ".py",
   "mimetype": "text/x-python",
   "name": "python",
   "nbconvert_exporter": "python",
   "pygments_lexer": "ipython2",
   "version": "2.7.13"
  }
 },
 "nbformat": 4,
 "nbformat_minor": 2
}
