{
 "cells": [
  {
   "cell_type": "markdown",
   "metadata": {},
   "source": [
    "# Averaging over a heatbath.\n",
    "\n",
    "## Objective\n",
    "\n",
    "Let our system initially be in the state\n",
    "\n",
    "$$ |\\varphi\\rangle = \\big(\\alpha\\ |0\\rangle + \\beta\\ |1\\rangle\\big) \\otimes |\\phi\\rangle $$\n",
    "\n",
    "where the first qubit indicates the state of our measurement apparatus, and $|\\phi\\rangle$ indicates the $N$-qubit state of our heatbath.\n",
    "\n",
    "We will sample a unitary $U$ from some distribution, and evolve to $|\\varphi'\\rangle = U |\\varphi\\rangle$.\n",
    "This state can be written uniquely as a sum over computational-basis states:\n",
    "\n",
    "$$ |\\varphi'\\rangle = c_0 |00\\dots00\\rangle + c_1 |00\\dots01\\rangle + \\cdots + c_{2^{N+1}-1} |11\\dots11\\rangle $$\n",
    "\n",
    "Let us compare each pair of states in the above expansion that share a state of the heatbath (that is, differ in only the apparatus state), and ask if the member of the pair with the apparatus in state $|0\\rangle$ or $|1\\rangle$ has more amplitude. That is to say, we ask for how many $0 \\le i < 2^N$ is $|c_i| < |c_{i+2^N}|$.\n",
    "\n",
    "The goal is to recover Born rule style statistics, where decoherence with the environment splits up the the state into approximately $|\\alpha^2|$-many states (in the computational basis) where the apparatus state $|0\\rangle$ has more amplitude, and $|\\beta^2|$-many where $|1\\rangle$ has more."
   ]
  },
  {
   "cell_type": "markdown",
   "metadata": {},
   "source": [
    "## Sampling a uniform unitary\n",
    "\n",
    "Because the space $U(n)$ of unitary $n \\times n$ matrices is a compact topological group, by [Haar's theorem](https://en.wikipedia.org/wiki/Haar_measure) we get a unique nice translation-invariant probability measure on $U(n)$.\n",
    "[It is known](https://case.edu/artsci/math/esmeckes/Meckes_SAMSI_Lecture2.pdf) that we can sample from this space uniformly by selecting columns of a matrix one at a time, each uniformly normalized in $\\mathbb{C}^n$, and orthogonal to all previous columns.\n",
    "To select a vector uniformly from an orthogonal complement $S^\\bot \\subset \\mathbb{C}^n$ it suffices to simply project out the components that lie in $S$.\n",
    "This is precisely what Gram-Schmidt achieves, and therefore we may use numpy's QR decomposition to yield a uniform unitary matrix, as the Q component is simply a Gram-Schmidt reduction of the input.\n",
    "\n",
    "Specifically, we start by generating $A \\in \\mathbb{C}^{n \\times n}$ by sampling each entry from a complex normal.\n",
    "This yields columns that are $n$-dimensionally complex normal, as the multivariate normal distribution has independent normal marginals.\n",
    "Then we QR decompose $A$, and return the unitary component of the decomposition."
   ]
  },
  {
   "cell_type": "code",
   "execution_count": 1,
   "metadata": {},
   "outputs": [],
   "source": [
    "import math, cmath, random\n",
    "import numpy as np\n",
    "\n",
    "def uniformly_random_unitary(N):\n",
    "    a = np.random.randn(N, N) + 1j * np.random.randn(N, N)\n",
    "    q, _ = np.linalg.qr(a, mode=\"complete\")\n",
    "    # Verify unitarity explicitly.\n",
    "    assert np.allclose(q.dot(q.conj().T), np.eye(N)), \"Unitarity failure!\"\n",
    "    return q"
   ]
  },
  {
   "cell_type": "markdown",
   "metadata": {},
   "source": [
    "## Experiment\n",
    "\n",
    "Our experiment proceeds in six steps:\n",
    "\n",
    "1. Given the coefficient $\\alpha$ we generate a $\\beta$ with random phase relative to $\\alpha$ satisfying $|\\alpha|^2 + |\\beta|^2 = 1$.\n",
    "\n",
    "2. We generate a uniformly random normalized state $|\\phi\\rangle$ for the heatbath.\n",
    "\n",
    "3. We assemble the apparatus state and heatbath state into our overall state $\\big(\\alpha\\ |0\\rangle + \\beta\\ |1\\rangle\\big) \\otimes |\\phi\\rangle$.\n",
    "\n",
    "4. We generate a uniformly random unitary interaction $U \\in U(2^{N+1})$.\n",
    "\n",
    "5. We evolve our overall state by $U$.\n",
    "\n",
    "6. We count up the number of heatbath states for which the apparatus measures more 0ey than 1ey."
   ]
  },
  {
   "cell_type": "code",
   "execution_count": 2,
   "metadata": {},
   "outputs": [],
   "source": [
    "def uniformly_random_state(N):\n",
    "    a = np.random.randn(N) + 1j * np.random.randn(N)\n",
    "    a /= np.linalg.norm(a)\n",
    "    return a\n",
    "\n",
    "def run(heatbath_bits, alpha):\n",
    "    # Step 1: Compute a randomly phased beta.\n",
    "    beta = cmath.exp(1j * random.uniform(0, 2*math.pi)) * (1 - alpha**2.0)**0.5\n",
    "    apparatus_state = np.array([alpha, beta])\n",
    "    # Assert that our state is L2 normalized.\n",
    "    assert np.allclose(np.linalg.norm(apparatus_state), 1)\n",
    "\n",
    "    # Step 2: Choose a random state for the heatbath.\n",
    "    heatbath = uniformly_random_state(2**heatbath_bits)\n",
    "\n",
    "    # Step 3: Our overall state is the tensor product of the above two.\n",
    "    overall_state = np.kron(apparatus_state, heatbath)\n",
    "\n",
    "    # Step 4: Generate a random interaction.\n",
    "    evolution = uniformly_random_unitary(2**(heatbath_bits + 1))\n",
    "\n",
    "    # Maybe: Consider only partial evolution? This is a different measure on unitaries...\n",
    "    #import scipy.linalg\n",
    "    #evolution = scipy.linalg.fractional_matrix_power(evolution, 0.1)\n",
    "\n",
    "    # Step 5: Interact the apparatus with the heatbath.\n",
    "    overall_state = evolution.dot(overall_state)\n",
    "\n",
    "    # Step 6: Count up the number of states where alpha wins.\n",
    "    norms = np.abs(overall_state.reshape((2, -1)))\n",
    "    alpha_win_proportion = np.average(norms[0] < norms[1])\n",
    "\n",
    "    return alpha_win_proportion"
   ]
  },
  {
   "cell_type": "markdown",
   "metadata": {},
   "source": [
    "We now proceed to do a bunch of random trials."
   ]
  },
  {
   "cell_type": "code",
   "execution_count": 3,
   "metadata": {},
   "outputs": [
    {
     "name": "stdout",
     "output_type": "stream",
     "text": [
      "0.501975\n"
     ]
    }
   ],
   "source": [
    "print np.average([run(heatbath_bits=3, alpha=0.3) for _ in xrange(10000)])"
   ]
  },
  {
   "cell_type": "markdown",
   "metadata": {},
   "source": [
    "wat\n",
    "\n",
    "Well, the unitary matrix just completely scrambled the state, making everything uniform.\n",
    "What was it we wanted to do again?\n",
    "Were we being dumb all along?"
   ]
  }
 ],
 "metadata": {
  "kernelspec": {
   "display_name": "Python 2",
   "language": "python",
   "name": "python2"
  },
  "language_info": {
   "codemirror_mode": {
    "name": "ipython",
    "version": 2
   },
   "file_extension": ".py",
   "mimetype": "text/x-python",
   "name": "python",
   "nbconvert_exporter": "python",
   "pygments_lexer": "ipython2",
   "version": "2.7.13"
  }
 },
 "nbformat": 4,
 "nbformat_minor": 2
}
